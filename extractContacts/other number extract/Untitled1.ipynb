{
 "cells": [
  {
   "cell_type": "code",
   "execution_count": 302,
   "metadata": {},
   "outputs": [],
   "source": [
    "import os, re, pprint"
   ]
  },
  {
   "cell_type": "code",
   "execution_count": 303,
   "metadata": {},
   "outputs": [],
   "source": [
    "celNumbers = {}\n",
    "fixNumbers = {}"
   ]
  },
  {
   "cell_type": "code",
   "execution_count": 304,
   "metadata": {},
   "outputs": [],
   "source": [
    "def completeNumbers(nameKey,celNumbers):\n",
    "    #funcao que completa os numeros de celular com +55 no inicio\n",
    "    temp = []\n",
    "    if celNumbers != None:\n",
    "        for i in range(len(celNumbers)):\n",
    "            temp.append('+55' + str(celNumbers[i]))\n",
    "    contacts.setdefault(nameKey,temp)"
   ]
  },
  {
   "cell_type": "code",
   "execution_count": 305,
   "metadata": {},
   "outputs": [],
   "source": [
    "def findNumbers(numbers):\n",
    "#funcao que encontra numeros de telefone em strings\n",
    "    var = re.compile(r'''\n",
    "    479+\\d{8}\n",
    "    |0479+\\d{8}\n",
    "    |47+\\d{8,9}\n",
    "    |047+\\d{8,9}\n",
    "    |9+\\d{8}\n",
    "    |88+\\d{6}\n",
    "    |3+\\d{7}    \n",
    "    ''', re.VERBOSE)\n",
    "    v1 = var.findall(str(numbers))\n",
    "    if v1 != []:\n",
    "        return v1"
   ]
  },
  {
   "cell_type": "code",
   "execution_count": 306,
   "metadata": {},
   "outputs": [],
   "source": [
    "def findAllNumbers(listStrings):\n",
    "        #cria uma lista temporaria para armazenar os numeros que encontra\n",
    "        numbers = []\n",
    "        #fara uma interacao por cada string da lista de strings passando por toda ela\n",
    "        for size in range(len(listStrings)):\n",
    "                #verifica se ha numeros na string, se houver ira salvar na variavel auxiliar tempNum\n",
    "                tempNum = ''.join(filter(str.isdigit, listStrings[size]))\n",
    "                #ira salvar na lista apenas o grupo de numeros com pelo menos 8 caracteres\n",
    "                if len(tempNum) > 8:\n",
    "                        numbers.append(tempNum)\n",
    "                else:\n",
    "                        continue\n",
    "        #retorna a lista de numeros encontrados para depois ser armazenado no dicionario\n",
    "        #return numbers"
   ]
  },
  {
   "cell_type": "code",
   "execution_count": 315,
   "metadata": {},
   "outputs": [],
   "source": [
    "os.chdir(directory)\n",
    "for txtFile in os.listdir('.'):\n",
    "    if txtFile.endswith('.txt'):\n",
    "        fileObj = open(txtFile,'r',encoding='UTF-8')\n",
    "        findAllNumbers(fileObj.readlines())\n",
    "        #pprint.pprint(findAllNumbers(fileObj.readlines()))"
   ]
  }
 ],
 "metadata": {
  "kernelspec": {
   "display_name": "Python 3",
   "language": "python",
   "name": "python3"
  },
  "language_info": {
   "codemirror_mode": {
    "name": "ipython",
    "version": 3
   },
   "file_extension": ".py",
   "mimetype": "text/x-python",
   "name": "python",
   "nbconvert_exporter": "python",
   "pygments_lexer": "ipython3",
   "version": "3.7.3"
  }
 },
 "nbformat": 4,
 "nbformat_minor": 2
}
