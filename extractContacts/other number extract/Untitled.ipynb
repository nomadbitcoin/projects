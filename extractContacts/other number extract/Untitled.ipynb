{
 "cells": [
  {
   "cell_type": "code",
   "execution_count": 11,
   "metadata": {},
   "outputs": [
    {
     "ename": "UnicodeDecodeError",
     "evalue": "'charmap' codec can't decode byte 0x81 in position 176: character maps to <undefined>",
     "output_type": "error",
     "traceback": [
      "\u001b[1;31m---------------------------------------------------------------------------\u001b[0m",
      "\u001b[1;31mUnicodeDecodeError\u001b[0m                        Traceback (most recent call last)",
      "\u001b[1;32m<ipython-input-11-5ca93872dd18>\u001b[0m in \u001b[0;36m<module>\u001b[1;34m\u001b[0m\n\u001b[0;32m     39\u001b[0m         \u001b[1;32mif\u001b[0m \u001b[0mfiles\u001b[0m\u001b[1;33m.\u001b[0m\u001b[0mendswith\u001b[0m\u001b[1;33m(\u001b[0m\u001b[1;34m'.txt'\u001b[0m\u001b[1;33m)\u001b[0m \u001b[1;33m==\u001b[0m \u001b[1;32mTrue\u001b[0m\u001b[1;33m:\u001b[0m\u001b[1;33m\u001b[0m\u001b[1;33m\u001b[0m\u001b[0m\n\u001b[0;32m     40\u001b[0m             \u001b[0mfileTxt\u001b[0m \u001b[1;33m=\u001b[0m \u001b[0mopen\u001b[0m\u001b[1;33m(\u001b[0m\u001b[0mfiles\u001b[0m\u001b[1;33m,\u001b[0m \u001b[1;34m'r'\u001b[0m\u001b[1;33m)\u001b[0m\u001b[1;33m\u001b[0m\u001b[1;33m\u001b[0m\u001b[0m\n\u001b[1;32m---> 41\u001b[1;33m             \u001b[0mlistStrings\u001b[0m \u001b[1;33m=\u001b[0m \u001b[0mfileTxt\u001b[0m\u001b[1;33m.\u001b[0m\u001b[0mreadlines\u001b[0m\u001b[1;33m(\u001b[0m\u001b[1;33m)\u001b[0m\u001b[1;33m\u001b[0m\u001b[1;33m\u001b[0m\u001b[0m\n\u001b[0m\u001b[0;32m     42\u001b[0m \u001b[1;33m\u001b[0m\u001b[0m\n\u001b[0;32m     43\u001b[0m             \u001b[1;31m#cria uma lista temporaria para armazenar os numeros que encontra\u001b[0m\u001b[1;33m\u001b[0m\u001b[1;33m\u001b[0m\u001b[1;33m\u001b[0m\u001b[0m\n",
      "\u001b[1;32m~\\Anaconda3\\lib\\encodings\\cp1252.py\u001b[0m in \u001b[0;36mdecode\u001b[1;34m(self, input, final)\u001b[0m\n\u001b[0;32m     21\u001b[0m \u001b[1;32mclass\u001b[0m \u001b[0mIncrementalDecoder\u001b[0m\u001b[1;33m(\u001b[0m\u001b[0mcodecs\u001b[0m\u001b[1;33m.\u001b[0m\u001b[0mIncrementalDecoder\u001b[0m\u001b[1;33m)\u001b[0m\u001b[1;33m:\u001b[0m\u001b[1;33m\u001b[0m\u001b[1;33m\u001b[0m\u001b[0m\n\u001b[0;32m     22\u001b[0m     \u001b[1;32mdef\u001b[0m \u001b[0mdecode\u001b[0m\u001b[1;33m(\u001b[0m\u001b[0mself\u001b[0m\u001b[1;33m,\u001b[0m \u001b[0minput\u001b[0m\u001b[1;33m,\u001b[0m \u001b[0mfinal\u001b[0m\u001b[1;33m=\u001b[0m\u001b[1;32mFalse\u001b[0m\u001b[1;33m)\u001b[0m\u001b[1;33m:\u001b[0m\u001b[1;33m\u001b[0m\u001b[1;33m\u001b[0m\u001b[0m\n\u001b[1;32m---> 23\u001b[1;33m         \u001b[1;32mreturn\u001b[0m \u001b[0mcodecs\u001b[0m\u001b[1;33m.\u001b[0m\u001b[0mcharmap_decode\u001b[0m\u001b[1;33m(\u001b[0m\u001b[0minput\u001b[0m\u001b[1;33m,\u001b[0m\u001b[0mself\u001b[0m\u001b[1;33m.\u001b[0m\u001b[0merrors\u001b[0m\u001b[1;33m,\u001b[0m\u001b[0mdecoding_table\u001b[0m\u001b[1;33m)\u001b[0m\u001b[1;33m[\u001b[0m\u001b[1;36m0\u001b[0m\u001b[1;33m]\u001b[0m\u001b[1;33m\u001b[0m\u001b[1;33m\u001b[0m\u001b[0m\n\u001b[0m\u001b[0;32m     24\u001b[0m \u001b[1;33m\u001b[0m\u001b[0m\n\u001b[0;32m     25\u001b[0m \u001b[1;32mclass\u001b[0m \u001b[0mStreamWriter\u001b[0m\u001b[1;33m(\u001b[0m\u001b[0mCodec\u001b[0m\u001b[1;33m,\u001b[0m\u001b[0mcodecs\u001b[0m\u001b[1;33m.\u001b[0m\u001b[0mStreamWriter\u001b[0m\u001b[1;33m)\u001b[0m\u001b[1;33m:\u001b[0m\u001b[1;33m\u001b[0m\u001b[1;33m\u001b[0m\u001b[0m\n",
      "\u001b[1;31mUnicodeDecodeError\u001b[0m: 'charmap' codec can't decode byte 0x81 in position 176: character maps to <undefined>"
     ]
    }
   ],
   "source": [
    "import os, pprint, re\n",
    "\n",
    "numbers = {}\n",
    "contacts = {}\n",
    "\n",
    "def findNumbers(numbers):\n",
    "#funcao que encontra numeros de telefone em strings\n",
    "    var = re.compile(r'''\n",
    "    479+\\d{8}\n",
    "    |0479+\\d{8}\n",
    "    |47+\\d{8,9}\n",
    "    |047+\\d{8,9}\n",
    "    |9+\\d{8}\n",
    "    |88+\\d{6}\n",
    "    |3+\\d{7}    \n",
    "    ''', re.VERBOSE)\n",
    "    v1 = var.findall(str(numbers))\n",
    "    if (v1 != None) and (v1 != []):\n",
    "        return v1\n",
    "\n",
    "def completeNumbers(nameKey,celNumbers):\n",
    "    #funcao que completa os numeros de celular com +55 no inicio\n",
    "    temp = []\n",
    "    if celNumbers != None:\n",
    "        for i in range(len(celNumbers)):\n",
    "            temp.append('+55' + str(celNumbers[i]))\n",
    "        contacts.setdefault(nameKey,temp)\n",
    "\n",
    "\n",
    "#muda o diretorio de trabalho para o diretorio que foi passado para a funcao\n",
    "directory = 'C:\\\\Users\\\\Yan\\\\Desktop\\\\git\\\\other number extract\\\\scannedFiles'\n",
    "os.chdir(directory)\n",
    "for filesinDir in os.listdir('.'):\n",
    "#se for uma pasta entra e le todos os txt dentro dela (nesse caso eu sei que so tem txt dentro dela)\n",
    "    if os.path.isdir(filesinDir) == True:\n",
    "        os.chdir(filesinDir)\n",
    "        \n",
    "    for files in os.listdir():\n",
    "        if files.endswith('.txt') == True:\n",
    "            fileTxt = open(files, encoding='UTF-8')\n",
    "            listStrings = fileTxt.readlines()\n",
    "            \n",
    "            #cria uma lista temporaria para armazenar os numeros que encontra\n",
    "            numbers = []\n",
    "            #fara uma interacao por cada string da lista de strings passando por toda ela\n",
    "            for size in range(len(listStrings)):\n",
    "                    #verifica se ha numeros na string, se houver ira salvar na variavel auxiliar tempNum\n",
    "                    tempNum = ''.join(filter(str.isdigit, listStrings[size]))\n",
    "                    #ira salvar na lista apenas o grupo de numeros com pelo menos 8 caracteres\n",
    "                    if tempNum != '88210000' and len(tempNum) > 8:\n",
    "                            numbers.append(tempNum)\n",
    "                    else:\n",
    "                            continue\n",
    "            #retorna a lista de numeros encontrados para depois ser armazenado no dicionario\n",
    "            completeNumbers(str(files),findNumbers(numbers))\n",
    "\n"
   ]
  },
  {
   "cell_type": "code",
   "execution_count": 4,
   "metadata": {},
   "outputs": [],
   "source": [
    "celNumbers = {}\n",
    "fixNumbers = {}"
   ]
  },
  {
   "cell_type": "code",
   "execution_count": 5,
   "metadata": {},
   "outputs": [],
   "source": [
    "for nameKey in contacts.keys():\n",
    "    for i in range(len(contacts[nameKey])):\n",
    "        if contacts[nameKey][i].startswith('+55473' or '+550473' or '+553'):\n",
    "            fixNumbers.setdefault(nameKey,contacts[nameKey][i])\n",
    "        else:\n",
    "            celNumbers.setdefault(nameKey,contacts[nameKey][i])"
   ]
  },
  {
   "cell_type": "code",
   "execution_count": 9,
   "metadata": {},
   "outputs": [
    {
     "name": "stdout",
     "output_type": "stream",
     "text": [
      "{'212 Arquitetura Interiores.txt': '+55047999090464',\n",
      " '3 M Clean.txt': '+5547991106021',\n",
      " '33sushi.txt': '+5547198822788',\n",
      " 'Accordi para a vida psicóloga terapia sistemica.txt': '+5547999219662',\n",
      " 'Adriana Limpezas.txt': '+5547997957224',\n",
      " 'Agatha Eventos.txt': '+5547997545973',\n",
      " 'Aglida Weich Beauty.txt': '+55947991833',\n",
      " 'Ajato Entregas.txt': '+55947999084',\n",
      " 'Alex Bike Fit.txt': '+55984097743',\n",
      " 'Alex Pinturas.txt': '+554797499663',\n",
      " 'Aline Soares Corretora .txt': '+55955479973',\n",
      " 'Amanda Siframar Seguros.txt': '+5547992703609',\n",
      " 'Ana Cabeleireira.txt': '+5547999703079',\n",
      " 'Arcom Higienização.txt': '+5547999384442',\n",
      " 'Arquiteta Claudia Godinho.txt': '+5547992089729',\n",
      " 'Arts de Coração Comunicação Visual.txt': '+559998255968',\n",
      " 'Atelie Bella Casa.txt': '+5547992590070',\n",
      " 'Ateliê Arte na Praia.txt': '+55479919481840',\n",
      " 'Ateliê Café com Costura.txt': '+5547991938609',\n",
      " 'Ateliê Fátima Silveira.txt': '+5547996111938',\n",
      " 'Ateliê Só Cortinas .txt': '+55947999905',\n",
      " 'Atlan Imóveis.txt': '+55047999125262',\n",
      " 'Atlântico Lavanderia.txt': '+5547996401773',\n",
      " 'Augusto Bom Vivant.txt': '+55996296977',\n",
      " 'Auto Socorro Sr Guincho.txt': '+5599934253799',\n",
      " 'Auto lavacao do alemao.txt': '+554799196720',\n",
      " 'Avaliada Weich Beauty.txt': '+55947991833',\n",
      " 'BDU Marcenaria .txt': '+5547999367909',\n",
      " 'Barber Shop.txt': '+55336956699',\n",
      " 'Barbershop Cândida Martins.txt': '+5547991223983',\n",
      " 'Belclin Odontologia.txt': '+55947991347',\n",
      " 'Bella Festa Decoraçoes.txt': '+5547847266489',\n",
      " 'Beto Pinturas.txt': '+55479968936384',\n",
      " 'Bicho de Casa Pet Shop.txt': '+5599983235347',\n",
      " 'Bici ciclo entregas.txt': '+55047991427634',\n",
      " 'Bierflug.txt': '+55991247599',\n",
      " 'Bike Avenida.txt': '+55998170104',\n",
      " 'Black Sheep Barbearia.txt': '+5547984383854',\n",
      " 'Braz Climatizacao.txt': '+5547996089570',\n",
      " 'Buska Fone.txt': '+5547992368848',\n",
      " 'Carol Bayer Bailarina Professora Dança do Ventre .txt': '+55988379790',\n",
      " 'Carvão Pérola Negra.txt': '+55998040489',\n",
      " 'ajato na web.txt': '+55996663004',\n",
      " 'assados do pedroso.txt': '+554799981666999',\n",
      " 'auto placas Itapema 2.txt': '+5547996472210'}\n"
     ]
    }
   ],
   "source": [
    "pprint.pprint(celNumbers)"
   ]
  },
  {
   "cell_type": "code",
   "execution_count": null,
   "metadata": {},
   "outputs": [],
   "source": []
  }
 ],
 "metadata": {
  "kernelspec": {
   "display_name": "Python 3",
   "language": "python",
   "name": "python3"
  },
  "language_info": {
   "codemirror_mode": {
    "name": "ipython",
    "version": 3
   },
   "file_extension": ".py",
   "mimetype": "text/x-python",
   "name": "python",
   "nbconvert_exporter": "python",
   "pygments_lexer": "ipython3",
   "version": "3.7.3"
  }
 },
 "nbformat": 4,
 "nbformat_minor": 2
}
