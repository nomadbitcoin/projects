{
 "cells": [
  {
   "cell_type": "code",
   "execution_count": 2,
   "metadata": {},
   "outputs": [],
   "source": [
    "import os, pprint, re\n",
    "\n",
    "numbers = {}\n",
    "contacts = {}\n",
    "\n",
    "def findNumbers(numbers):\n",
    "#funcao que encontra numeros de telefone em strings\n",
    "    var = re.compile(r'''\n",
    "    479+\\d{8}\n",
    "    |0479+\\d{8}\n",
    "    |47+\\d{8,9}\n",
    "    |047+\\d{8,9}\n",
    "    |9+\\d{8}\n",
    "    |88+\\d{6}\n",
    "    |3+\\d{7}    \n",
    "    ''', re.VERBOSE)\n",
    "    v1 = var.findall(str(numbers))\n",
    "    if (v1 != None) and (v1 != []):\n",
    "        return v1\n",
    "\n",
    "def completeNumbers(nameKey,celNumbers):\n",
    "    #funcao que completa os numeros de celular com +55 no inicio\n",
    "    temp = []\n",
    "    if celNumbers != None:\n",
    "        for i in range(len(celNumbers)):\n",
    "            temp.append('+55' + str(celNumbers[i]))\n",
    "        contacts.setdefault(nameKey,temp)\n",
    "\n",
    "\n",
    "#muda o diretorio de trabalho para o diretorio que foi passado para a funcao\n",
    "#directory = 'C:\\\\Users\\\\Yan\\\\Desktop\\\\git\\\\other number extract\\\\scannedFiles'\n",
    "#os.chdir(directory)\n",
    "for filesinDir in os.listdir('.'):\n",
    "#se for uma pasta entra e le todos os txt dentro dela (nesse caso eu sei que so tem txt dentro dela)\n",
    "    if os.path.isdir(filesinDir) == True:\n",
    "        os.chdir(filesinDir)\n",
    "        \n",
    "    for files in os.listdir():\n",
    "        if files.endswith('.txt') == True:\n",
    "            fileTxt = open(files, encoding='UTF-8')\n",
    "            listStrings = fileTxt.readlines()\n",
    "            \n",
    "            #cria uma lista temporaria para armazenar os numeros que encontra\n",
    "            numbers = []\n",
    "            #fara uma interacao por cada string da lista de strings passando por toda ela\n",
    "            for size in range(len(listStrings)):\n",
    "                    #verifica se ha numeros na string, se houver ira salvar na variavel auxiliar tempNum\n",
    "                    tempNum = ''.join(filter(str.isdigit, listStrings[size]))\n",
    "                    #ira salvar na lista apenas o grupo de numeros com pelo menos 8 caracteres\n",
    "                    if tempNum != '88210000' and len(tempNum) > 8:\n",
    "                            numbers.append(tempNum)\n",
    "                    else:\n",
    "                            continue\n",
    "            #retorna a lista de numeros encontrados para depois ser armazenado no dicionario\n",
    "            completeNumbers(str(files),findNumbers(numbers))\n",
    "\n"
   ]
  },
  {
   "cell_type": "code",
   "execution_count": 3,
   "metadata": {},
   "outputs": [],
   "source": [
    "celNumbers = {}\n",
    "fixNumbers = {}"
   ]
  },
  {
   "cell_type": "code",
   "execution_count": 6,
   "metadata": {},
   "outputs": [],
   "source": [
    "for nameKey in contacts.keys():\n",
    "    for i in range(len(contacts[nameKey])):\n",
    "        if contacts[nameKey][i].startswith('+55473' or '+550473' or '+553'):\n",
    "            fixNumbers.setdefault(nameKey,contacts[nameKey][i])\n",
    "        else:\n",
    "            celNumbers.setdefault(nameKey,contacts[nameKey][i])"
   ]
  },
  {
   "cell_type": "code",
   "execution_count": 7,
   "metadata": {},
   "outputs": [
    {
     "name": "stdout",
     "output_type": "stream",
     "text": [
      "{}\n"
     ]
    }
   ],
   "source": [
    "pprint.pprint(celNumbers)"
   ]
  },
  {
   "cell_type": "code",
   "execution_count": null,
   "metadata": {},
   "outputs": [],
   "source": []
  }
 ],
 "metadata": {
  "kernelspec": {
   "display_name": "Python 3",
   "language": "python",
   "name": "python3"
  },
  "language_info": {
   "codemirror_mode": {
    "name": "ipython",
    "version": 3
   },
   "file_extension": ".py",
   "mimetype": "text/x-python",
   "name": "python",
   "nbconvert_exporter": "python",
   "pygments_lexer": "ipython3",
   "version": "3.7.3"
  }
 },
 "nbformat": 4,
 "nbformat_minor": 2
}
