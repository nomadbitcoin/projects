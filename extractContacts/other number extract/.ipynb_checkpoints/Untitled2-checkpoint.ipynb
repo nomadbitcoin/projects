{
 "cells": [
  {
   "cell_type": "code",
   "execution_count": 16,
   "metadata": {},
   "outputs": [],
   "source": [
    "import csv, pprint"
   ]
  },
  {
   "cell_type": "code",
   "execution_count": 59,
   "metadata": {},
   "outputs": [
    {
     "name": "stdout",
     "output_type": "stream",
     "text": [
      "Nome das colunas: Name, Given Name, Additional Name, Family Name, Yomi Name, Given Name Yomi, Additional Name Yomi, Family Name Yomi, Name Prefix, Name Suffix, Initials, Nickname, Short Name, Maiden Name, Birthday, Gender, Location, Billing Information, Directory Server, Mileage, Occupation, Hobby, Sensitivity, Priority, Subject, Notes, Language, Photo, Group Membership, E-mail 1 - Type, E-mail 1 - Value, E-mail 2 - Type, E-mail 2 - Value, Phone 1 - Type, Phone 1 - Value, Phone 2 - Type, Phone 2 - Value, Organization 1 - Type, Organization 1 - Name, Organization 1 - Yomi Name, Organization 1 - Title, Organization 1 - Department, Organization 1 - Symbol, Organization 1 - Location, Organization 1 - Job Description\n",
      "OrderedDict([('Name', '33 Sushi House'), ('Given Name', '33 Sushi House'), ('Additional Name', ''), ('Family Name', ''), ('Yomi Name', ''), ('Given Name Yomi', ''), ('Additional Name Yomi', ''), ('Family Name Yomi', ''), ('Name Prefix', ''), ('Name Suffix', ''), ('Initials', ''), ('Nickname', ''), ('Short Name', ''), ('Maiden Name', ''), ('Birthday', ''), ('Gender', ''), ('Location', ''), ('Billing Information', ''), ('Directory Server', ''), ('Mileage', ''), ('Occupation', ''), ('Hobby', ''), ('Sensitivity', ''), ('Priority', ''), ('Subject', ''), ('Notes', ''), ('Language', ''), ('Photo', ''), ('Group Membership', 'Importado em 11/3 ::: * myContacts'), ('E-mail 1 - Type', '* Home'), ('E-mail 1 - Value', '33sushihouse@gmail.com'), ('E-mail 2 - Type', ''), ('E-mail 2 - Value', ''), ('Phone 1 - Type', 'Mobile'), ('Phone 1 - Value', '047988227885'), ('Phone 2 - Type', ''), ('Phone 2 - Value', ''), ('Organization 1 - Type', ''), ('Organization 1 - Name', ''), ('Organization 1 - Yomi Name', ''), ('Organization 1 - Title', ''), ('Organization 1 - Department', ''), ('Organization 1 - Symbol', ''), ('Organization 1 - Location', ''), ('Organization 1 - Job Description', '')])\n"
     ]
    }
   ],
   "source": [
    "with open('bkpContacts.csv', 'r') as csv_arq:\n",
    "    csv_dict = csv.DictReader(csv_arq)\n",
    "    for row in csv_dict:\n",
    "            rowText = f'Nome das colunas: {\", \".join(row)}')\n",
    "            print(rowText)\n",
    "            break\n",
    "            "
   ]
  },
  {
   "cell_type": "code",
   "execution_count": null,
   "metadata": {},
   "outputs": [],
   "source": []
  }
 ],
 "metadata": {
  "kernelspec": {
   "display_name": "Python 3",
   "language": "python",
   "name": "python3"
  },
  "language_info": {
   "codemirror_mode": {
    "name": "ipython",
    "version": 3
   },
   "file_extension": ".py",
   "mimetype": "text/x-python",
   "name": "python",
   "nbconvert_exporter": "python",
   "pygments_lexer": "ipython3",
   "version": "3.7.3"
  }
 },
 "nbformat": 4,
 "nbformat_minor": 2
}
