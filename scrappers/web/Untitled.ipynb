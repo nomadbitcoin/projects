{
 "cells": [
  {
   "cell_type": "code",
   "execution_count": 4,
   "metadata": {},
   "outputs": [],
   "source": [
    "from pprint import pprint\n",
    "import bs4, requests, os"
   ]
  },
  {
   "cell_type": "code",
   "execution_count": 5,
   "metadata": {},
   "outputs": [],
   "source": [
    "main_url = 'https://diegomariano.com/home/#courses'"
   ]
  },
  {
   "cell_type": "code",
   "execution_count": 6,
   "metadata": {},
   "outputs": [],
   "source": [
    "headers = {\n",
    "        'user-agent': 'Mozilla/5.0 (Macintosh; Intel Mac OS X 10_11_6) AppleWebKit/537.36 (KHTML, like Gecko) Chrome/56.0.2924.87 Safari/537.36',\n",
    "    }"
   ]
  },
  {
   "cell_type": "code",
   "execution_count": 7,
   "metadata": {},
   "outputs": [],
   "source": [
    "r = requests.get(main_url, headers=headers)\n",
    "htmlPage = bs4.BeautifulSoup(r.text, features='html.parser')"
   ]
  },
  {
   "cell_type": "code",
   "execution_count": 10,
   "metadata": {},
   "outputs": [],
   "source": [
    "course_links = []"
   ]
  },
  {
   "cell_type": "code",
   "execution_count": 12,
   "metadata": {},
   "outputs": [],
   "source": [
    "for linkCourse in htmlPage.find_all('a',{'class':'btn btn-outline-danger'}):\n",
    "    course_links.append(linkCourse.get('href'))"
   ]
  },
  {
   "cell_type": "code",
   "execution_count": 13,
   "metadata": {},
   "outputs": [
    {
     "data": {
      "text/plain": [
       "['https://www.udemy.com/python_para_bioinformatica/?couponCode=DIEGOMARIANO_COM',\n",
       " 'https://www.udemy.com/php-mysql-x/?couponCode=DIEGOMARIANO_COM',\n",
       " 'https://www.udemy.com/python-mysql/?couponCode=DIEGOMARIANO_COM',\n",
       " 'https://www.udemy.com/codeigniter-php/?couponCode=DIEGOMARIANO_COM',\n",
       " 'https://www.udemy.com/aprenda_mysql_em30minutos/?couponCode=DIEGOMARIANO_COM',\n",
       " 'https://www.udemy.com/introducao-a-linguagem-javascript/?couponCode=SITE_DIEGO',\n",
       " 'https://www.udemy.com/programacao_em_perl/?couponCode=SITE_DIEGO',\n",
       " 'https://www.udemy.com/dominando-o-framework-bootstrap/?couponCode=SITE_DIEGO']"
      ]
     },
     "execution_count": 13,
     "metadata": {},
     "output_type": "execute_result"
    }
   ],
   "source": [
    "course_links"
   ]
  },
  {
   "cell_type": "code",
   "execution_count": 14,
   "metadata": {},
   "outputs": [],
   "source": [
    "r = requests.get(course_links[7], headers=headers)\n",
    "htmlPage = bs4.BeautifulSoup(r.text, features='html.parser')"
   ]
  },
  {
   "cell_type": "code",
   "execution_count": 12,
   "metadata": {},
   "outputs": [],
   "source": [
    "htmlPage.find('div',{'data-purpose':'enrollment'})"
   ]
  },
  {
   "cell_type": "code",
   "execution_count": 19,
   "metadata": {},
   "outputs": [
    {
     "data": {
      "text/plain": [
       "<span class=\"price-text__current\" data-purpose=\"discount-price-text\">\n",
       "<span class=\"sr-only\">Current price:</span> R$26.99\n",
       "</span>"
      ]
     },
     "execution_count": 19,
     "metadata": {},
     "output_type": "execute_result"
    }
   ],
   "source": [
    "htmlPage.find('div',{'class':'price-text'}).find('span',{'class':'price-text__current'})"
   ]
  },
  {
   "cell_type": "code",
   "execution_count": null,
   "metadata": {},
   "outputs": [],
   "source": []
  },
  {
   "cell_type": "code",
   "execution_count": 18,
   "metadata": {},
   "outputs": [
    {
     "ename": "SyntaxError",
     "evalue": "invalid syntax (<ipython-input-18-dad65785bcb5>, line 1)",
     "output_type": "error",
     "traceback": [
      "\u001b[1;36m  File \u001b[1;32m\"<ipython-input-18-dad65785bcb5>\"\u001b[1;36m, line \u001b[1;32m1\u001b[0m\n\u001b[1;33m    data_course = {'Curso':{'Alunos':,'inscritos':}}\u001b[0m\n\u001b[1;37m                                     ^\u001b[0m\n\u001b[1;31mSyntaxError\u001b[0m\u001b[1;31m:\u001b[0m invalid syntax\n"
     ]
    }
   ],
   "source": [
    "for curso in course_links:\n",
    "    url = requests.get(url, headers=headers)\n",
    "    htmlPageCurso = bs4.BeautifulSoup(url.text, features='html.parser')\n",
    "    .setedault(,htmlPageCurso.find('div',{'data-purpose':'enrollment'}))"
   ]
  },
  {
   "cell_type": "code",
   "execution_count": null,
   "metadata": {},
   "outputs": [],
   "source": []
  }
 ],
 "metadata": {
  "kernelspec": {
   "display_name": "Python 3",
   "language": "python",
   "name": "python3"
  },
  "language_info": {
   "codemirror_mode": {
    "name": "ipython",
    "version": 3
   },
   "file_extension": ".py",
   "mimetype": "text/x-python",
   "name": "python",
   "nbconvert_exporter": "python",
   "pygments_lexer": "ipython3",
   "version": "3.7.3"
  }
 },
 "nbformat": 4,
 "nbformat_minor": 2
}
