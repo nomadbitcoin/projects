{
 "cells": [
  {
   "cell_type": "code",
   "execution_count": 75,
   "metadata": {},
   "outputs": [
    {
     "ename": "SessionNotCreatedException",
     "evalue": "Message: Unable to find a matching set of capabilities\n",
     "output_type": "error",
     "traceback": [
      "\u001b[1;31m---------------------------------------------------------------------------\u001b[0m",
      "\u001b[1;31mSessionNotCreatedException\u001b[0m                Traceback (most recent call last)",
      "\u001b[1;32m<ipython-input-75-cf24e82f3c37>\u001b[0m in \u001b[0;36m<module>\u001b[1;34m\u001b[0m\n\u001b[0;32m      8\u001b[0m \u001b[0moptions\u001b[0m\u001b[1;33m.\u001b[0m\u001b[0madd_argument\u001b[0m\u001b[1;33m(\u001b[0m\u001b[1;34m'-headless'\u001b[0m\u001b[1;33m)\u001b[0m\u001b[1;33m\u001b[0m\u001b[1;33m\u001b[0m\u001b[0m\n\u001b[0;32m      9\u001b[0m \u001b[1;33m\u001b[0m\u001b[0m\n\u001b[1;32m---> 10\u001b[1;33m \u001b[0mdriver\u001b[0m \u001b[1;33m=\u001b[0m \u001b[0mwebdriver\u001b[0m\u001b[1;33m.\u001b[0m\u001b[0mChrome\u001b[0m\u001b[1;33m(\u001b[0m\u001b[0moptions\u001b[0m\u001b[1;33m=\u001b[0m\u001b[0moptions\u001b[0m\u001b[1;33m,\u001b[0m \u001b[0mexecutable_path\u001b[0m\u001b[1;33m=\u001b[0m\u001b[0mfirefox_driver\u001b[0m\u001b[1;33m)\u001b[0m\u001b[1;33m\u001b[0m\u001b[1;33m\u001b[0m\u001b[0m\n\u001b[0m",
      "\u001b[1;32m~\\Anaconda3\\lib\\site-packages\\selenium\\webdriver\\chrome\\webdriver.py\u001b[0m in \u001b[0;36m__init__\u001b[1;34m(self, executable_path, port, options, service_args, desired_capabilities, service_log_path, chrome_options, keep_alive)\u001b[0m\n\u001b[0;32m     79\u001b[0m                     \u001b[0mremote_server_addr\u001b[0m\u001b[1;33m=\u001b[0m\u001b[0mself\u001b[0m\u001b[1;33m.\u001b[0m\u001b[0mservice\u001b[0m\u001b[1;33m.\u001b[0m\u001b[0mservice_url\u001b[0m\u001b[1;33m,\u001b[0m\u001b[1;33m\u001b[0m\u001b[1;33m\u001b[0m\u001b[0m\n\u001b[0;32m     80\u001b[0m                     keep_alive=keep_alive),\n\u001b[1;32m---> 81\u001b[1;33m                 desired_capabilities=desired_capabilities)\n\u001b[0m\u001b[0;32m     82\u001b[0m         \u001b[1;32mexcept\u001b[0m \u001b[0mException\u001b[0m\u001b[1;33m:\u001b[0m\u001b[1;33m\u001b[0m\u001b[1;33m\u001b[0m\u001b[0m\n\u001b[0;32m     83\u001b[0m             \u001b[0mself\u001b[0m\u001b[1;33m.\u001b[0m\u001b[0mquit\u001b[0m\u001b[1;33m(\u001b[0m\u001b[1;33m)\u001b[0m\u001b[1;33m\u001b[0m\u001b[1;33m\u001b[0m\u001b[0m\n",
      "\u001b[1;32m~\\Anaconda3\\lib\\site-packages\\selenium\\webdriver\\remote\\webdriver.py\u001b[0m in \u001b[0;36m__init__\u001b[1;34m(self, command_executor, desired_capabilities, browser_profile, proxy, keep_alive, file_detector, options)\u001b[0m\n\u001b[0;32m    155\u001b[0m             warnings.warn(\"Please use FirefoxOptions to set browser profile\",\n\u001b[0;32m    156\u001b[0m                           DeprecationWarning, stacklevel=2)\n\u001b[1;32m--> 157\u001b[1;33m         \u001b[0mself\u001b[0m\u001b[1;33m.\u001b[0m\u001b[0mstart_session\u001b[0m\u001b[1;33m(\u001b[0m\u001b[0mcapabilities\u001b[0m\u001b[1;33m,\u001b[0m \u001b[0mbrowser_profile\u001b[0m\u001b[1;33m)\u001b[0m\u001b[1;33m\u001b[0m\u001b[1;33m\u001b[0m\u001b[0m\n\u001b[0m\u001b[0;32m    158\u001b[0m         \u001b[0mself\u001b[0m\u001b[1;33m.\u001b[0m\u001b[0m_switch_to\u001b[0m \u001b[1;33m=\u001b[0m \u001b[0mSwitchTo\u001b[0m\u001b[1;33m(\u001b[0m\u001b[0mself\u001b[0m\u001b[1;33m)\u001b[0m\u001b[1;33m\u001b[0m\u001b[1;33m\u001b[0m\u001b[0m\n\u001b[0;32m    159\u001b[0m         \u001b[0mself\u001b[0m\u001b[1;33m.\u001b[0m\u001b[0m_mobile\u001b[0m \u001b[1;33m=\u001b[0m \u001b[0mMobile\u001b[0m\u001b[1;33m(\u001b[0m\u001b[0mself\u001b[0m\u001b[1;33m)\u001b[0m\u001b[1;33m\u001b[0m\u001b[1;33m\u001b[0m\u001b[0m\n",
      "\u001b[1;32m~\\Anaconda3\\lib\\site-packages\\selenium\\webdriver\\remote\\webdriver.py\u001b[0m in \u001b[0;36mstart_session\u001b[1;34m(self, capabilities, browser_profile)\u001b[0m\n\u001b[0;32m    250\u001b[0m         parameters = {\"capabilities\": w3c_caps,\n\u001b[0;32m    251\u001b[0m                       \"desiredCapabilities\": capabilities}\n\u001b[1;32m--> 252\u001b[1;33m         \u001b[0mresponse\u001b[0m \u001b[1;33m=\u001b[0m \u001b[0mself\u001b[0m\u001b[1;33m.\u001b[0m\u001b[0mexecute\u001b[0m\u001b[1;33m(\u001b[0m\u001b[0mCommand\u001b[0m\u001b[1;33m.\u001b[0m\u001b[0mNEW_SESSION\u001b[0m\u001b[1;33m,\u001b[0m \u001b[0mparameters\u001b[0m\u001b[1;33m)\u001b[0m\u001b[1;33m\u001b[0m\u001b[1;33m\u001b[0m\u001b[0m\n\u001b[0m\u001b[0;32m    253\u001b[0m         \u001b[1;32mif\u001b[0m \u001b[1;34m'sessionId'\u001b[0m \u001b[1;32mnot\u001b[0m \u001b[1;32min\u001b[0m \u001b[0mresponse\u001b[0m\u001b[1;33m:\u001b[0m\u001b[1;33m\u001b[0m\u001b[1;33m\u001b[0m\u001b[0m\n\u001b[0;32m    254\u001b[0m             \u001b[0mresponse\u001b[0m \u001b[1;33m=\u001b[0m \u001b[0mresponse\u001b[0m\u001b[1;33m[\u001b[0m\u001b[1;34m'value'\u001b[0m\u001b[1;33m]\u001b[0m\u001b[1;33m\u001b[0m\u001b[1;33m\u001b[0m\u001b[0m\n",
      "\u001b[1;32m~\\Anaconda3\\lib\\site-packages\\selenium\\webdriver\\remote\\webdriver.py\u001b[0m in \u001b[0;36mexecute\u001b[1;34m(self, driver_command, params)\u001b[0m\n\u001b[0;32m    319\u001b[0m         \u001b[0mresponse\u001b[0m \u001b[1;33m=\u001b[0m \u001b[0mself\u001b[0m\u001b[1;33m.\u001b[0m\u001b[0mcommand_executor\u001b[0m\u001b[1;33m.\u001b[0m\u001b[0mexecute\u001b[0m\u001b[1;33m(\u001b[0m\u001b[0mdriver_command\u001b[0m\u001b[1;33m,\u001b[0m \u001b[0mparams\u001b[0m\u001b[1;33m)\u001b[0m\u001b[1;33m\u001b[0m\u001b[1;33m\u001b[0m\u001b[0m\n\u001b[0;32m    320\u001b[0m         \u001b[1;32mif\u001b[0m \u001b[0mresponse\u001b[0m\u001b[1;33m:\u001b[0m\u001b[1;33m\u001b[0m\u001b[1;33m\u001b[0m\u001b[0m\n\u001b[1;32m--> 321\u001b[1;33m             \u001b[0mself\u001b[0m\u001b[1;33m.\u001b[0m\u001b[0merror_handler\u001b[0m\u001b[1;33m.\u001b[0m\u001b[0mcheck_response\u001b[0m\u001b[1;33m(\u001b[0m\u001b[0mresponse\u001b[0m\u001b[1;33m)\u001b[0m\u001b[1;33m\u001b[0m\u001b[1;33m\u001b[0m\u001b[0m\n\u001b[0m\u001b[0;32m    322\u001b[0m             response['value'] = self._unwrap_value(\n\u001b[0;32m    323\u001b[0m                 response.get('value', None))\n",
      "\u001b[1;32m~\\Anaconda3\\lib\\site-packages\\selenium\\webdriver\\remote\\errorhandler.py\u001b[0m in \u001b[0;36mcheck_response\u001b[1;34m(self, response)\u001b[0m\n\u001b[0;32m    240\u001b[0m                 \u001b[0malert_text\u001b[0m \u001b[1;33m=\u001b[0m \u001b[0mvalue\u001b[0m\u001b[1;33m[\u001b[0m\u001b[1;34m'alert'\u001b[0m\u001b[1;33m]\u001b[0m\u001b[1;33m.\u001b[0m\u001b[0mget\u001b[0m\u001b[1;33m(\u001b[0m\u001b[1;34m'text'\u001b[0m\u001b[1;33m)\u001b[0m\u001b[1;33m\u001b[0m\u001b[1;33m\u001b[0m\u001b[0m\n\u001b[0;32m    241\u001b[0m             \u001b[1;32mraise\u001b[0m \u001b[0mexception_class\u001b[0m\u001b[1;33m(\u001b[0m\u001b[0mmessage\u001b[0m\u001b[1;33m,\u001b[0m \u001b[0mscreen\u001b[0m\u001b[1;33m,\u001b[0m \u001b[0mstacktrace\u001b[0m\u001b[1;33m,\u001b[0m \u001b[0malert_text\u001b[0m\u001b[1;33m)\u001b[0m\u001b[1;33m\u001b[0m\u001b[1;33m\u001b[0m\u001b[0m\n\u001b[1;32m--> 242\u001b[1;33m         \u001b[1;32mraise\u001b[0m \u001b[0mexception_class\u001b[0m\u001b[1;33m(\u001b[0m\u001b[0mmessage\u001b[0m\u001b[1;33m,\u001b[0m \u001b[0mscreen\u001b[0m\u001b[1;33m,\u001b[0m \u001b[0mstacktrace\u001b[0m\u001b[1;33m)\u001b[0m\u001b[1;33m\u001b[0m\u001b[1;33m\u001b[0m\u001b[0m\n\u001b[0m\u001b[0;32m    243\u001b[0m \u001b[1;33m\u001b[0m\u001b[0m\n\u001b[0;32m    244\u001b[0m     \u001b[1;32mdef\u001b[0m \u001b[0m_value_or_default\u001b[0m\u001b[1;33m(\u001b[0m\u001b[0mself\u001b[0m\u001b[1;33m,\u001b[0m \u001b[0mobj\u001b[0m\u001b[1;33m,\u001b[0m \u001b[0mkey\u001b[0m\u001b[1;33m,\u001b[0m \u001b[0mdefault\u001b[0m\u001b[1;33m)\u001b[0m\u001b[1;33m:\u001b[0m\u001b[1;33m\u001b[0m\u001b[1;33m\u001b[0m\u001b[0m\n",
      "\u001b[1;31mSessionNotCreatedException\u001b[0m: Message: Unable to find a matching set of capabilities\n"
     ]
    }
   ],
   "source": [
    "from selenium import webdriver\n",
    "from pprint import pprint\n",
    "from bs4 import BeautifulSoup\n",
    "\n",
    "geckodriver = r'C:\\Users\\Yan\\Desktop\\git\\projects\\scrappers\\geckodriver\\geckodriver_firefox32.exe'\n",
    " \n",
    "options = webdriver.FirefoxOptions()\n",
    "options.add_argument('-headless')\n",
    " \n",
    "browser = webdriver.Firefox(executable_path=geckodriver, firefox_options=options)"
   ]
  },
  {
   "cell_type": "code",
   "execution_count": 56,
   "metadata": {},
   "outputs": [],
   "source": [
    "main_url = 'https://diegomariano.com/home/#courses'"
   ]
  },
  {
   "cell_type": "code",
   "execution_count": 57,
   "metadata": {},
   "outputs": [],
   "source": [
    "driver.get(main_url)"
   ]
  },
  {
   "cell_type": "code",
   "execution_count": 58,
   "metadata": {},
   "outputs": [],
   "source": [
    "htmlPage = bs4.BeautifulSoup(driver.page_source, features='html.parser')"
   ]
  },
  {
   "cell_type": "code",
   "execution_count": 59,
   "metadata": {},
   "outputs": [],
   "source": [
    "course_links = []"
   ]
  },
  {
   "cell_type": "code",
   "execution_count": 60,
   "metadata": {},
   "outputs": [],
   "source": [
    "for linkCourse in htmlPage.find_all('a',{'class':'btn btn-outline-danger'}):\n",
    "    course_links.append(linkCourse.get('href'))"
   ]
  },
  {
   "cell_type": "code",
   "execution_count": 61,
   "metadata": {},
   "outputs": [
    {
     "name": "stdout",
     "output_type": "stream",
     "text": [
      "8\n",
      "'https://www.udemy.com/dominando-o-framework-bootstrap/?couponCode=SITE_DIEGO'\n"
     ]
    }
   ],
   "source": [
    "pprint.pprint(len(course_links))\n",
    "pprint.pprint(course_links[7])"
   ]
  },
  {
   "cell_type": "code",
   "execution_count": 72,
   "metadata": {},
   "outputs": [],
   "source": [
    "#driver.get(course_links[7])\n",
    "driver.get('https://www.udemy.com/dominando-o-framework-bootstrap/?')\n",
    "htmlPage = bs4.BeautifulSoup(driver.page_source, features='html.parser')"
   ]
  },
  {
   "cell_type": "code",
   "execution_count": 73,
   "metadata": {},
   "outputs": [
    {
     "data": {
      "text/plain": [
       "<html lang=\"en\"><head>\n",
       "<meta charset=\"utf-8\"/>\n",
       "<meta content=\"width=device-width, initial-scale=1\" name=\"viewport\"/>\n",
       "<title>Access to this page has been denied.</title>\n",
       "<link href=\"https://fonts.googleapis.com/css?family=Open+Sans:300\" rel=\"stylesheet\"/>\n",
       "<style>\n",
       "        html, body {\n",
       "            margin: 0;\n",
       "            padding: 0;\n",
       "            font-family: 'Open Sans', sans-serif;\n",
       "            color: #000;\n",
       "        }\n",
       "\n",
       "        a {\n",
       "            color: #c5c5c5;\n",
       "            text-decoration: none;\n",
       "        }\n",
       "\n",
       "        .container {\n",
       "            align-items: center;\n",
       "            display: flex;\n",
       "            flex: 1;\n",
       "            justify-content: space-between;\n",
       "            flex-direction: column;\n",
       "            height: 100%;\n",
       "        }\n",
       "\n",
       "        .container > div {\n",
       "            width: 100%;\n",
       "            display: flex;\n",
       "            justify-content: center;\n",
       "        }\n",
       "\n",
       "        .container > div > div {\n",
       "            display: flex;\n",
       "            width: 80%;\n",
       "        }\n",
       "\n",
       "        .customer-logo-wrapper {\n",
       "            padding-top: 2rem;\n",
       "            flex-grow: 0;\n",
       "            background-color: #fff;\n",
       "            visibility: hidden;\n",
       "        }\n",
       "\n",
       "        .customer-logo {\n",
       "            border-bottom: 1px solid #000;\n",
       "        }\n",
       "\n",
       "        .customer-logo > img {\n",
       "            padding-bottom: 1rem;\n",
       "            max-height: 50px;\n",
       "            max-width: 100%;\n",
       "        }\n",
       "\n",
       "        .page-title-wrapper {\n",
       "            flex-grow: 2;\n",
       "        }\n",
       "\n",
       "        .page-title {\n",
       "            flex-direction: column-reverse;\n",
       "        }\n",
       "\n",
       "        .content-wrapper {\n",
       "            flex-grow: 5;\n",
       "        }\n",
       "\n",
       "        .content {\n",
       "            flex-direction: column;\n",
       "        }\n",
       "\n",
       "        .page-footer-wrapper {\n",
       "            align-items: center;\n",
       "            flex-grow: 0.2;\n",
       "            background-color: #000;\n",
       "            color: #c5c5c5;\n",
       "            font-size: 70%;\n",
       "        }\n",
       "\n",
       "        @media (min-width: 768px) {\n",
       "            html, body {\n",
       "                height: 100%;\n",
       "            }\n",
       "        }\n",
       "    </style>\n",
       "<!-- Custom CSS -->\n",
       "<script async=\"\" src=\"https://www.gstatic.com/recaptcha/api2/v1559543665173/recaptcha__en.js\" type=\"text/javascript\"></script><script src=\"/ZHh9f9x0/captcha/captcha.js?a=c&amp;u=be768400-9322-11e9-9afb-75662f3209ec&amp;v=&amp;m=0\"></script><script src=\"https://www.recaptcha.net/recaptcha/api.js?hl=en-US\"></script><script src=\"/ZHh9f9x0/init.js\"></script><a aria-hidden=\"true\" href=\"/dominando-o-framework-bootstrap/?_pxhc=1561011310415\" rel=\"nofollow\" style=\"width: 0px; height: 0px; font-size: 0px; line-height: 0;\" tabindex=\"-1\" target=\"_blank\"></a></head>\n",
       "<body>\n",
       "<section class=\"container\">\n",
       "<div class=\"customer-logo-wrapper\">\n",
       "<div class=\"customer-logo\">\n",
       "<img alt=\"Logo\" src=\"\"/>\n",
       "</div>\n",
       "</div>\n",
       "<div class=\"page-title-wrapper\">\n",
       "<div class=\"page-title\">\n",
       "<h1>Please verify you are a human</h1>\n",
       "</div>\n",
       "</div>\n",
       "<div class=\"content-wrapper\">\n",
       "<div class=\"content\">\n",
       "<div id=\"px-captcha\"><div class=\"g-recaptcha\" data-callback=\"handleCaptcha\" data-sitekey=\"6Lcj-R8TAAAAABs3FrRPuQhLMbp5QrHsHufzLf7b\" data-theme=\"dark\"><div style=\"width: 304px; height: 78px;\"><div><iframe frameborder=\"0\" height=\"78\" name=\"a-7u4uy9h8tjgn\" role=\"presentation\" sandbox=\"allow-forms allow-popups allow-same-origin allow-scripts allow-top-navigation allow-modals allow-popups-to-escape-sandbox\" scrolling=\"no\" src=\"https://www.google.com/recaptcha/api2/anchor?ar=1&amp;k=6Lcj-R8TAAAAABs3FrRPuQhLMbp5QrHsHufzLf7b&amp;co=aHR0cHM6Ly93d3cudWRlbXkuY29tOjQ0Mw..&amp;hl=en&amp;v=v1559543665173&amp;theme=dark&amp;size=normal&amp;cb=ha38bj97qjfc\" width=\"304\"></iframe></div><textarea class=\"g-recaptcha-response\" id=\"g-recaptcha-response\" name=\"g-recaptcha-response\" style=\"width: 250px; height: 40px; border: 1px solid rgb(193, 193, 193); margin: 10px 25px; padding: 0px; resize: none; display: none;\"></textarea></div></div></div>\n",
       "<p>\n",
       "                Access to this page has been denied because we believe you are using automation tools to browse the\n",
       "                website.\n",
       "            </p>\n",
       "<p>\n",
       "                This may happen as a result of the following:\n",
       "            </p>\n",
       "<ul>\n",
       "<li>\n",
       "                    Javascript is disabled or blocked by an extension (ad blockers for example)\n",
       "                </li>\n",
       "<li>\n",
       "                    Your browser does not support cookies\n",
       "                </li>\n",
       "</ul>\n",
       "<p>\n",
       "                Please make sure that Javascript and cookies are enabled on your browser and that you are not blocking\n",
       "                them from loading.\n",
       "            </p>\n",
       "<p>\n",
       "                Reference ID: #be768400-9322-11e9-9afb-75662f3209ec\n",
       "            </p>\n",
       "<div id=\"px-block-form-wrapper\"><div><style>#px-block-form-wrapper{width:420px;position:absolute;bottom:0;left:calc(50% - 200px)}#px-block-toggle-button{height:20px;background:#fff;color:#000;border-radius:3px;padding:10px;cursor:pointer;font-size:13px;text-align:center;width:270px;border:1px solid #000;font-weight:900;margin-left:75px;text-decoration:underline}#px-block-form{background:#fff;border:1px solid;border-color:#404040;color:#000;border-radius:3px;height:265px;font-size:12px}button#px-form-close{float:right;background:0 0;border:none;color:#fff;font-size:18px;cursor:pointer}button#px-form-submit{position:absolute;bottom:10px;background:#404040;border:none;width:100px;border-radius:3px;height:25px;color:#fff;right:20px;cursor:pointer}button#px-form-submit:disabled{background:#ddd;cursor:not-allowed;color:#000}div#px-form{color:#000;padding:15px}div#px-form-head{padding:10px;font-size:14px;background:#404040;color:#fff}div#px-form textarea{margin:-5px 0 0 4px;width:300px;height:36px}div#px-form div{margin-bottom:6px}#px-form-thank-you{background:#fff;color:#000;border:1px solid;border-color:#404040;border-radius:3px;height:54px;padding:5px 10px;text-align:center;width:330px;margin-left:35px}#px-form-thank-you div{font-size:15px;margin-top:14px}#px-form-thank-you span.checkmark{margin-right:8px;color:green;font-size:20px}div#px-form form h4{margin:8px 4px}@media only screen and (orientation:portrait){#px-block-form-wrapper{width:94%;position:relative;bottom:0;left:3%}#px-block-toggle-button{height:20px;background:#fff;color:#000;border-radius:3px;padding:10px;cursor:pointer;font-size:13px;text-align:center;width:94%;border:1px solid #000;font-weight:900;text-decoration:underline;margin-left:0}#px-block-form{background:#fff;border:1px solid;border-color:#404040;color:#000;border-radius:3px;height:300px;font-size:12px}button#px-form-close{float:right;background:0 0;border:none;color:#fff;font-size:18px;cursor:pointer}button#px-form-submit{position:absolute;bottom:10px;background:#404040;border:none;width:100px;border-radius:3px;height:25px;color:#fff;right:20px;cursor:pointer}button#px-form-submit:disabled{background:#ddd;cursor:not-allowed;color:#000}div#px-form{color:#000;padding:15px}div#px-form-head{padding:10px;font-size:14px;background:#404040;color:#fff}div#px-form textarea{margin:-5px 0 0 4px;width:90%;height:36px}div#px-form div{margin-bottom:6px}#px-form-thank-you{background:#fff;color:#000;border:1px solid;border-color:#404040;border-radius:3px;height:54px;padding:5px 10px;text-align:center;width:94%;margin-left:0}#px-form-thank-you div{font-size:15px;margin-top:14px}#px-form-thank-you span.checkmark{margin-right:8px;color:green;font-size:20px}div#px-form form h4{margin:8px 4px}}</style><div id=\"px-block-toggle-button\" onclick=\"_pxToggleOpenForm()\">Report an issue</div><div hidden=\"\" id=\"px-block-form\"><div id=\"px-form-head\"><span>Experiencing issues? Please provide more information:</span> <button id=\"px-form-close\" onclick=\"_pxToggleOpenForm(!0)\">X</button></div><div id=\"px-form\"><form><div style=\"display:none\"><input id=\"opt0\" name=\"px-report-reason\" onchange=\"_pxItemSelected()\" type=\"radio\" value=\"-1\"/> <label for=\"opt0\">I’m a bot</label></div><div><input id=\"opt1\" name=\"px-report-reason\" onchange=\"_pxItemSelected()\" type=\"radio\" value=\"1\"/> <label for=\"opt1\">I’m not seeing any captcha element</label></div><div><input id=\"opt2\" name=\"px-report-reason\" onchange=\"_pxItemSelected()\" type=\"radio\" value=\"2\"/> <label for=\"opt2\">I solved the captcha and got another one</label></div><div><input id=\"opt3\" name=\"px-report-reason\" onchange=\"_pxItemSelected()\" type=\"radio\" value=\"3\"/> <label for=\"opt3\">I've been solving multiple captchas, yet still unable to access the site</label></div><div><input id=\"opt4\" name=\"px-report-reason\" onchange=\"_pxItemSelected()\" type=\"radio\" value=\"4\"/> <label for=\"opt4\">Other (please elaborate)</label></div><h4>Additional Information:</h4><textarea id=\"px-form-free-text\" placeholder=\"comment...\"></textarea></form><button disabled=\"disabled\" id=\"px-form-submit\" onclick=\"_pxSubmitForm()\">Send feedback</button></div></div><div hidden=\"\" id=\"px-form-thank-you\"><div><span class=\"checkmark\">✓</span><span>Thank you for the feedback</span></div></div></div></div></div>\n",
       "</div>\n",
       "<div class=\"page-footer-wrapper\">\n",
       "<div class=\"page-footer\">\n",
       "<p>\n",
       "                Powered by\n",
       "                <a href=\"https://www.perimeterx.com/whywasiblocked\">PerimeterX</a>\n",
       "                , Inc.\n",
       "            </p>\n",
       "</div>\n",
       "</div>\n",
       "</section>\n",
       "<!-- Px -->\n",
       "<script>\n",
       "    window._pxAppId = 'PXZHh9f9x0';\n",
       "    window._pxJsClientSrc = '/ZHh9f9x0/init.js';\n",
       "    window._pxFirstPartyEnabled = true;\n",
       "    window._pxVid = '';\n",
       "    window._pxUuid = 'be768400-9322-11e9-9afb-75662f3209ec';\n",
       "    window._pxHostUrl = '/ZHh9f9x0/xhr';\n",
       "</script>\n",
       "<script>\n",
       "    var s = document.createElement('script');\n",
       "    s.src = '/ZHh9f9x0/captcha/captcha.js?a=c&u=be768400-9322-11e9-9afb-75662f3209ec&v=&m=0';\n",
       "    var p = document.getElementsByTagName('head')[0];\n",
       "    p.insertBefore(s, null);\n",
       "    if (true) {\n",
       "        s.onerror = function () {\n",
       "            s = document.createElement('script');\n",
       "            var suffixIndex = '/ZHh9f9x0/captcha/captcha.js?a=c&u=be768400-9322-11e9-9afb-75662f3209ec&v=&m=0'.indexOf('captcha.js');\n",
       "            var temperedBlockScript = '/ZHh9f9x0/captcha/captcha.js?a=c&u=be768400-9322-11e9-9afb-75662f3209ec&v=&m=0'.substring(suffixIndex);\n",
       "            s.src = '//captcha.px-cdn.net/PXZHh9f9x0/' + temperedBlockScript;\n",
       "            p.parentNode.insertBefore(s, p);\n",
       "        };\n",
       "    }\n",
       "</script>\n",
       "<!-- Custom Script -->\n",
       "<div style=\"background-color: rgb(255, 255, 255); border: 1px solid rgb(204, 204, 204); box-shadow: rgba(0, 0, 0, 0.2) 2px 2px 3px; position: absolute; transition: visibility 0s linear 0.3s, opacity 0.3s linear 0s; opacity: 0; visibility: hidden; z-index: 2000000000; left: 0px; top: -10000px;\"><div style=\"width: 100%; height: 100%; position: fixed; top: 0px; left: 0px; z-index: 2000000000; background-color: rgb(255, 255, 255); opacity: 0.05;\"></div><div class=\"g-recaptcha-bubble-arrow\" style=\"border: 11px solid transparent; width: 0px; height: 0px; position: absolute; pointer-events: none; margin-top: -11px; z-index: 2000000000;\"></div><div class=\"g-recaptcha-bubble-arrow\" style=\"border: 10px solid transparent; width: 0px; height: 0px; position: absolute; pointer-events: none; margin-top: -10px; z-index: 2000000000;\"></div><div style=\"z-index: 2000000000; position: relative;\"><iframe frameborder=\"0\" name=\"c-7u4uy9h8tjgn\" sandbox=\"allow-forms allow-popups allow-same-origin allow-scripts allow-top-navigation allow-modals allow-popups-to-escape-sandbox\" scrolling=\"no\" src=\"https://www.google.com/recaptcha/api2/bframe?hl=en&amp;v=v1559543665173&amp;k=6Lcj-R8TAAAAABs3FrRPuQhLMbp5QrHsHufzLf7b&amp;cb=her8njsgg3cu\" style=\"width: 100%; height: 100%;\" title=\"recaptcha challenge\"></iframe></div></div></body></html>"
      ]
     },
     "execution_count": 73,
     "metadata": {},
     "output_type": "execute_result"
    }
   ],
   "source": [
    "htmlPage"
   ]
  },
  {
   "cell_type": "code",
   "execution_count": null,
   "metadata": {},
   "outputs": [],
   "source": []
  }
 ],
 "metadata": {
  "kernelspec": {
   "display_name": "Python 3",
   "language": "python",
   "name": "python3"
  },
  "language_info": {
   "codemirror_mode": {
    "name": "ipython",
    "version": 3
   },
   "file_extension": ".py",
   "mimetype": "text/x-python",
   "name": "python",
   "nbconvert_exporter": "python",
   "pygments_lexer": "ipython3",
   "version": "3.7.3"
  }
 },
 "nbformat": 4,
 "nbformat_minor": 2
}
