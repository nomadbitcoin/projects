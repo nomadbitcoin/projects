{
 "cells": [
  {
   "cell_type": "code",
   "execution_count": 1,
   "metadata": {},
   "outputs": [],
   "source": [
    "from selenium import webdriver\n",
    "from selenium.webdriver.chrome.options import Options\n",
    "from selenium.webdriver.common.keys import Keys\n",
    "import bs4, time, pprint\n",
    "\n",
    "#directory to find chrome webdriver\n",
    "chrome_driver = r'C:\\Users\\Yan\\Desktop\\git\\projects\\scrappers\\insta_scrapper\\chromedriver_win32\\chromedriver.exe'\n",
    "\n",
    "#instance a chrome headless\n",
    "chrome_options = Options()\n",
    "chrome_options.add_argument('--headless')\n",
    "chrome_options.add_argument('--window-size-1920x1080')\n",
    "\n",
    "driver = webdriver.Chrome(options=chrome_options, executable_path=chrome_driver)"
   ]
  },
  {
   "cell_type": "code",
   "execution_count": 6,
   "metadata": {},
   "outputs": [],
   "source": [
    "linkPub = 'https://www.instagram.com/p/BxGLfuvA42i/'"
   ]
  },
  {
   "cell_type": "code",
   "execution_count": 7,
   "metadata": {},
   "outputs": [],
   "source": [
    "driver.get(linkPub)"
   ]
  },
  {
   "cell_type": "code",
   "execution_count": 8,
   "metadata": {},
   "outputs": [],
   "source": [
    "htmlPage = bs4.BeautifulSoup(driver.page_source, features='html.parser')"
   ]
  },
  {
   "cell_type": "code",
   "execution_count": 9,
   "metadata": {},
   "outputs": [
    {
     "ename": "AttributeError",
     "evalue": "'NoneType' object has no attribute 'find'",
     "output_type": "error",
     "traceback": [
      "\u001b[1;31m---------------------------------------------------------------------------\u001b[0m",
      "\u001b[1;31mAttributeError\u001b[0m                            Traceback (most recent call last)",
      "\u001b[1;32m<ipython-input-9-aa2770a6f63d>\u001b[0m in \u001b[0;36m<module>\u001b[1;34m\u001b[0m\n\u001b[0;32m      3\u001b[0m \u001b[0mpublication\u001b[0m\u001b[1;33m.\u001b[0m\u001b[0msetdefault\u001b[0m\u001b[1;33m(\u001b[0m\u001b[0mprofileName\u001b[0m\u001b[1;33m,\u001b[0m\u001b[1;33m{\u001b[0m\u001b[1;33m}\u001b[0m\u001b[1;33m)\u001b[0m\u001b[1;33m\u001b[0m\u001b[1;33m\u001b[0m\u001b[0m\n\u001b[0;32m      4\u001b[0m \u001b[0mpublication\u001b[0m\u001b[1;33m[\u001b[0m\u001b[0mprofileName\u001b[0m\u001b[1;33m]\u001b[0m\u001b[1;33m.\u001b[0m\u001b[0msetdefault\u001b[0m\u001b[1;33m(\u001b[0m\u001b[1;34m'subtitle'\u001b[0m\u001b[1;33m,\u001b[0m\u001b[1;33m{\u001b[0m\u001b[1;33m}\u001b[0m\u001b[1;33m)\u001b[0m\u001b[1;33m\u001b[0m\u001b[1;33m\u001b[0m\u001b[0m\n\u001b[1;32m----> 5\u001b[1;33m \u001b[1;32mfor\u001b[0m \u001b[0mlinkInLegend\u001b[0m \u001b[1;32min\u001b[0m \u001b[0mhtmlPage\u001b[0m\u001b[1;33m.\u001b[0m\u001b[0mfind\u001b[0m\u001b[1;33m(\u001b[0m\u001b[1;34m'ul'\u001b[0m\u001b[1;33m,\u001b[0m\u001b[1;33m{\u001b[0m\u001b[1;34m'class'\u001b[0m\u001b[1;33m:\u001b[0m\u001b[1;34m'XQXOT'\u001b[0m\u001b[1;33m}\u001b[0m\u001b[1;33m)\u001b[0m\u001b[1;33m.\u001b[0m\u001b[0mfind\u001b[0m\u001b[1;33m(\u001b[0m\u001b[1;34m'li'\u001b[0m\u001b[1;33m)\u001b[0m\u001b[1;33m.\u001b[0m\u001b[0mfind_all\u001b[0m\u001b[1;33m(\u001b[0m\u001b[1;34m'a'\u001b[0m\u001b[1;33m)\u001b[0m\u001b[1;33m:\u001b[0m\u001b[1;33m\u001b[0m\u001b[1;33m\u001b[0m\u001b[0m\n\u001b[0m\u001b[0;32m      6\u001b[0m     \u001b[0mpublication\u001b[0m\u001b[1;33m[\u001b[0m\u001b[0mprofileName\u001b[0m\u001b[1;33m]\u001b[0m\u001b[1;33m[\u001b[0m\u001b[1;34m'subtitle'\u001b[0m\u001b[1;33m]\u001b[0m\u001b[1;33m.\u001b[0m\u001b[0msetdefault\u001b[0m\u001b[1;33m(\u001b[0m\u001b[1;34m'text'\u001b[0m\u001b[1;33m,\u001b[0m\u001b[0mhtmlPage\u001b[0m\u001b[1;33m.\u001b[0m\u001b[0mfind\u001b[0m\u001b[1;33m(\u001b[0m\u001b[1;34m'ul'\u001b[0m\u001b[1;33m,\u001b[0m\u001b[1;33m{\u001b[0m\u001b[1;34m'class'\u001b[0m\u001b[1;33m:\u001b[0m\u001b[1;34m'XQXOT'\u001b[0m\u001b[1;33m}\u001b[0m\u001b[1;33m)\u001b[0m\u001b[1;33m.\u001b[0m\u001b[0mfind\u001b[0m\u001b[1;33m(\u001b[0m\u001b[1;34m'li'\u001b[0m\u001b[1;33m)\u001b[0m\u001b[1;33m.\u001b[0m\u001b[0mtext\u001b[0m\u001b[1;33m)\u001b[0m\u001b[1;33m\u001b[0m\u001b[1;33m\u001b[0m\u001b[0m\n\u001b[0;32m      7\u001b[0m     \u001b[1;32mif\u001b[0m \u001b[0mlinkInLegend\u001b[0m\u001b[1;33m.\u001b[0m\u001b[0mget\u001b[0m\u001b[1;33m(\u001b[0m\u001b[1;34m'href'\u001b[0m\u001b[1;33m)\u001b[0m \u001b[1;33m!=\u001b[0m \u001b[0mprofileName\u001b[0m \u001b[1;32mand\u001b[0m \u001b[0mlinkInLegend\u001b[0m\u001b[1;33m.\u001b[0m\u001b[0mget\u001b[0m\u001b[1;33m(\u001b[0m\u001b[1;34m'href'\u001b[0m\u001b[1;33m)\u001b[0m\u001b[1;33m.\u001b[0m\u001b[0mstartswith\u001b[0m\u001b[1;33m(\u001b[0m\u001b[1;34m'/explore/tags/'\u001b[0m\u001b[1;33m)\u001b[0m\u001b[1;33m:\u001b[0m\u001b[1;33m\u001b[0m\u001b[1;33m\u001b[0m\u001b[0m\n",
      "\u001b[1;31mAttributeError\u001b[0m: 'NoneType' object has no attribute 'find'"
     ]
    }
   ],
   "source": [
    "publication = {}\n",
    "profileName = htmlPage.find('h2',{'class':'BrX75'}).find('a').get('href')\n",
    "publication.setdefault(profileName,{})\n",
    "publication[profileName].setdefault('subtitle',{})\n",
    "for linkInLegend in htmlPage.find('ul',{'class':'XQXOT'}).find('li').find_all('a'):\n",
    "    publication[profileName]['subtitle'].setdefault('text',htmlPage.find('ul',{'class':'XQXOT'}).find('li').text)\n",
    "    if linkInLegend.get('href') != profileName and linkInLegend.get('href').startswith('/explore/tags/'):\n",
    "        publication[profileName]['subtitle'].setdefault('tags',[])\n",
    "        publication[profileName]['subtitle']['tags'].append(linkInLegend.get('href'))\n",
    "    elif linkInLegend.get('href') != profileName and not (linkInLegend.get('href').startswith('/explore/tags/')):\n",
    "        publication[profileName]['subtitle'].setdefault('profile',[])\n",
    "        publication[profileName]['subtitle']['profile'].append(linkInLegend.get('href'))\n",
    "        \n",
    "publication[profileName].setdefault('comments',{})\n",
    "publication[profileName].setdefault('likes',htmlPage.find('a',{'class':'zV_Nj'}).text)\n",
    "publication[profileName].setdefault('date',htmlPage.find('time').get('datetime'))\n",
    "if htmlPage.find('div',{'class':'JF9hh'}).find('a') != None:\n",
    "    publication[profileName].setdefault('location',htmlPage.find('div',{'class':'JF9hh'}).find('a').get('href'))"
   ]
  },
  {
   "cell_type": "code",
   "execution_count": null,
   "metadata": {},
   "outputs": [],
   "source": [
    "for listComment in htmlPage.find_all('ul',{'class':'Mr508'}):\n",
    "    publication[profileName]['comments'].setdefault(str(listComment.find('a').get('href')),{})\n",
    "    if len(listComment.find_all('a')) < 3 and listComment.find_all('a')[0].get('href') == listComment.find_all('a')[1].get('href'):\n",
    "        publication[profileName]['comments'][str(listComment.find('a').get('href'))].setdefault('text',listComment.find('span').text)\n",
    "        publication[profileName]['comments'][str(listComment.find('a').get('href'))].setdefault('date-comment',listComment.find('time').get('datetime'))\n",
    "    else:\n",
    "        for link in listComment.find_all('a'):\n",
    "            publication[profileName]['comments'][str(listComment.find('a').get('href'))].setdefault('date-comment',listComment.find('time').get('datetime'))\n",
    "            publication[profileName]['comments'][str(listComment.find('a').get('href'))].setdefault('text',listComment.find('span').text)\n",
    "            if link.get('href').startswith('/explore/tags/'):\n",
    "                publication[profileName]['comments'][str(listComment.find('a').get('href'))].setdefault('tags',[])\n",
    "                publication[profileName]['comments'][str(listComment.find('a').get('href'))]['tags'].append(link.get('href'))\n",
    "            elif link.get('href') != str(listComment.find('a').get('href')):\n",
    "                publication[profileName]['comments'][str(listComment.find('a').get('href'))].setdefault('profiles',[])\n",
    "                publication[profileName]['comments'][str(listComment.find('a').get('href'))]['profiles'].append(link.get('href'))"
   ]
  },
  {
   "cell_type": "code",
   "execution_count": 10,
   "metadata": {},
   "outputs": [
    {
     "name": "stdout",
     "output_type": "stream",
     "text": [
      "{'/_stuckyy/': {'subtitle': {}}}\n"
     ]
    }
   ],
   "source": [
    "pprint.pprint(publication)"
   ]
  },
  {
   "cell_type": "code",
   "execution_count": null,
   "metadata": {},
   "outputs": [],
   "source": []
  },
  {
   "cell_type": "code",
   "execution_count": null,
   "metadata": {},
   "outputs": [],
   "source": []
  }
 ],
 "metadata": {
  "kernelspec": {
   "display_name": "Python 3",
   "language": "python",
   "name": "python3"
  },
  "language_info": {
   "codemirror_mode": {
    "name": "ipython",
    "version": 3
   },
   "file_extension": ".py",
   "mimetype": "text/x-python",
   "name": "python",
   "nbconvert_exporter": "python",
   "pygments_lexer": "ipython3",
   "version": "3.7.3"
  }
 },
 "nbformat": 4,
 "nbformat_minor": 2
}
