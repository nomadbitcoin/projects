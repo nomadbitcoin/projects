{
 "cells": [
  {
   "cell_type": "code",
   "execution_count": 1,
   "metadata": {},
   "outputs": [],
   "source": [
    "from selenium import webdriver\n",
    "from selenium.webdriver.chrome.options import Options\n",
    "from selenium.webdriver.common.keys import Keys\n",
    "import bs4, time, pprint\n",
    "\n",
    "#directory to find chrome webdriver\n",
    "chrome_driver = r'C:\\Users\\Yan\\Desktop\\git\\projects\\scrappers\\insta_scrapper\\chromedriver_win32\\chromedriver'\n",
    "\n",
    "#instance a chrome headless\n",
    "chrome_options = Options()\n",
    "chrome_options.add_argument('--headless')\n",
    "chrome_options.add_argument('--window-size-1920x1080')\n",
    "#options=chrome_options, \n",
    "driver = webdriver.Chrome(executable_path=chrome_driver)"
   ]
  },
  {
   "cell_type": "code",
   "execution_count": 2,
   "metadata": {},
   "outputs": [],
   "source": [
    "#url = 'https://www.instagram.com/explore/locations/14633616/the-hall-club/'\n",
    "url = 'https://www.instagram.com/explore/locations/226186869/porto-uniao-santa-catarina-brazil/'"
   ]
  },
  {
   "cell_type": "code",
   "execution_count": 3,
   "metadata": {},
   "outputs": [],
   "source": [
    "driver.get(url)\n",
    "htmlPage = bs4.BeautifulSoup(driver.page_source, features='html.parser')"
   ]
  },
  {
   "cell_type": "code",
   "execution_count": 6,
   "metadata": {},
   "outputs": [],
   "source": [
    "htmlPage = bs4.BeautifulSoup(driver.page_source, features='html.parser')\n",
    "htmlPage.find('div',{'class':'_4emnV'}).find('div',{'class':'                  Igw0E     IwRSH        YBx95       _4EzTm                                                                                                               _9qQ0O ZUqME'})"
   ]
  },
  {
   "cell_type": "code",
   "execution_count": null,
   "metadata": {},
   "outputs": [],
   "source": []
  }
 ],
 "metadata": {
  "kernelspec": {
   "display_name": "Python 3",
   "language": "python",
   "name": "python3"
  },
  "language_info": {
   "codemirror_mode": {
    "name": "ipython",
    "version": 3
   },
   "file_extension": ".py",
   "mimetype": "text/x-python",
   "name": "python",
   "nbconvert_exporter": "python",
   "pygments_lexer": "ipython3",
   "version": "3.7.3"
  }
 },
 "nbformat": 4,
 "nbformat_minor": 2
}
