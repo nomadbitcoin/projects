{
 "cells": [
  {
   "cell_type": "code",
   "execution_count": 11,
   "metadata": {},
   "outputs": [],
   "source": [
    "from selenium import webdriver\n",
    "from selenium.webdriver.chrome.options import Options\n",
    "from selenium.webdriver.common.keys import Keys\n",
    "import bs4, time, pprint\n",
    "\n",
    "#directory to find chrome webdriver\n",
    "chrome_driver = r'C:\\Users\\Yan\\Desktop\\git\\projects\\scrappers\\insta_scrapper\\chromedriver_win32\\chromedriver'\n",
    "\n",
    "#instance a chrome headless\n",
    "chrome_options = Options()\n",
    "chrome_options.add_argument('--headless')\n",
    "chrome_options.add_argument('--window-size-1920x1080')\n",
    "\n",
    "driver = webdriver.Chrome(options=chrome_options, executable_path=chrome_driver)\n"
   ]
  },
  {
   "cell_type": "code",
   "execution_count": 18,
   "metadata": {},
   "outputs": [],
   "source": [
    "#urlProfile = input('Insira o link do perfil \\n')\n",
    "urlProfile = 'https://www.instagram.com/_stuckyy/'\n",
    "\n",
    "driver.get(urlProfile)\n",
    "\n",
    "htmlPage = bs4.BeautifulSoup(driver.page_source, features='html.parser')\n",
    "\n",
    "profilesInfo = {}\n",
    "\n",
    "nameAndUser = htmlPage.find('div',{'class':'v9tJq'}).find_all('h1')\n",
    "profilesInfo.setdefault('user',nameAndUser[0].text)\n",
    "profilesInfo.setdefault('name',nameAndUser[1].text)\n",
    "\n",
    "profilesInfoFound = htmlPage.find('header').find_all('span')\n"
   ]
  },
  {
   "cell_type": "code",
   "execution_count": 20,
   "metadata": {},
   "outputs": [],
   "source": [
    "profilesInfo.setdefault('posts',{})\n",
    "profilesInfo['posts'].setdefault(str(profilesInfoFound[1].text),[])\n",
    "profilesInfo.setdefault('followers',profilesInfoFound[2].text)\n",
    "profilesInfo.setdefault('following',profilesInfoFound[3].text)\n",
    "profilesInfo.setdefault('bio',{})\n",
    "profilesInfo['bio'].setdefault('text',profilesInfoFound[4].text)\n",
    "#if htmlPage.find('div',{'class':'-vDIg'}).find('a').get('href').startswith('https://l.instagram.com') and htmlPage.find('div',{'class':'-vDIg'}).find('a') != None:\n",
    "#    profilesInfo.setdefault('site',htmlPage.find('div',{'class':'-vDIg'}).find('a').get('href'))\n",
    "for s in profilesInfoFound[4].find_all('a'):\n",
    "    if s.get('href').startswith('/explore/tags'):\n",
    "        profilesInfo['bio'].setdefault('tags',[])\n",
    "        profilesInfo['bio']['tags'].append(s.get('href'))\n",
    "    else:\n",
    "        profilesInfo['bio'].setdefault('profiles',[])\n",
    "        profilesInfo['bio']['profiles'].append(s.get('href'))\n"
   ]
  },
  {
   "cell_type": "code",
   "execution_count": 21,
   "metadata": {},
   "outputs": [],
   "source": [
    "while len(profilesInfo['posts'][str(profilesInfoFound[1].text)]) < int(profilesInfoFound[1].text):\n",
    "    links_in_Profile = htmlPage.find_all('a')\n",
    "    for l in range(len(links_in_Profile)):\n",
    "        if links_in_Profile[l].get('href').startswith('/p/'):\n",
    "            profilesInfo['posts'][str(profilesInfoFound[1].text)].append('https://www.instagram.com' + str(links_in_Profile[l].get('href')))\n",
    "    driver.execute_script(\"window.scrollTo(0, document.body.scrollHeight);var lenOfPage=document.body.scrollHeight;return lenOfPage;\")\n",
    "    time.sleep(3)\n",
    "    htmlPage = bs4.BeautifulSoup(driver.page_source, features='html.parser')\n",
    "    profilesInfo['posts'][str(profilesInfoFound[1].text)] = list(set(profilesInfo['posts'][str(profilesInfoFound[1].text)]))"
   ]
  },
  {
   "cell_type": "code",
   "execution_count": 22,
   "metadata": {},
   "outputs": [
    {
     "name": "stdout",
     "output_type": "stream",
     "text": [
      "{'bio': {'text': 'Snap:felipe_stucky(42)98086659Itapema-Sc'},\n",
      " 'followers': '621',\n",
      " 'following': '1,395',\n",
      " 'name': 'Felipe Stucky',\n",
      " 'posts': {'27': ['https://www.instagram.com/p/BO2BbP_Awgn/',\n",
      "                  'https://www.instagram.com/p/BxGLfuvA42i/',\n",
      "                  'https://www.instagram.com/p/BiosRiGlfd7/',\n",
      "                  'https://www.instagram.com/p/Bu1Wa3JAcrP/',\n",
      "                  'https://www.instagram.com/p/BmZfPAUFn9J/',\n",
      "                  'https://www.instagram.com/p/ByrFG2vA86l/',\n",
      "                  'https://www.instagram.com/p/BpU9ilfAnQ3/',\n",
      "                  'https://www.instagram.com/p/BNnPFQnAgEg/',\n",
      "                  'https://www.instagram.com/p/BiqFZAXlrWh/',\n",
      "                  'https://www.instagram.com/p/BRTSIDkhoP2/',\n",
      "                  'https://www.instagram.com/p/BqqCcGxgDxT/',\n",
      "                  'https://www.instagram.com/p/BdbfLsrFVGE/',\n",
      "                  'https://www.instagram.com/p/BQL9qw3gjDL/',\n",
      "                  'https://www.instagram.com/p/BhnARHeFnka/',\n",
      "                  'https://www.instagram.com/p/BfEx-xGl_zj/',\n",
      "                  'https://www.instagram.com/p/BljVcmfl-44/',\n",
      "                  'https://www.instagram.com/p/BNImGuXgncT/',\n",
      "                  'https://www.instagram.com/p/Bw0xo_9gB1-/',\n",
      "                  'https://www.instagram.com/p/Bv2ZmPYA7aC/',\n",
      "                  'https://www.instagram.com/p/BOPfsB5gdAw/',\n",
      "                  'https://www.instagram.com/p/BoQLKY6lcKJ/',\n",
      "                  'https://www.instagram.com/p/BhowVtPFHqv/',\n",
      "                  'https://www.instagram.com/p/BP_aihfgUqa/',\n",
      "                  'https://www.instagram.com/p/BMNI1AbAIue/',\n",
      "                  'https://www.instagram.com/p/BvX4DkmA_37/',\n",
      "                  'https://www.instagram.com/p/ByBIDsDgq5n/',\n",
      "                  'https://www.instagram.com/p/BP5B3g0gwJ7/']},\n",
      " 'user': '_stuckyy'}\n"
     ]
    }
   ],
   "source": [
    "pprint.pprint(profilesInfo)"
   ]
  },
  {
   "cell_type": "code",
   "execution_count": null,
   "metadata": {},
   "outputs": [],
   "source": []
  },
  {
   "cell_type": "code",
   "execution_count": null,
   "metadata": {},
   "outputs": [],
   "source": []
  }
 ],
 "metadata": {
  "kernelspec": {
   "display_name": "Python 3",
   "language": "python",
   "name": "python3"
  },
  "language_info": {
   "codemirror_mode": {
    "name": "ipython",
    "version": 3
   },
   "file_extension": ".py",
   "mimetype": "text/x-python",
   "name": "python",
   "nbconvert_exporter": "python",
   "pygments_lexer": "ipython3",
   "version": "3.7.3"
  }
 },
 "nbformat": 4,
 "nbformat_minor": 2
}
