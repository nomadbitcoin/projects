{
 "cells": [
  {
   "cell_type": "code",
   "execution_count": 229,
   "metadata": {},
   "outputs": [],
   "source": [
    "from selenium import webdriver\n",
    "from selenium.webdriver.chrome.options import Options\n",
    "from selenium.webdriver.common.keys import Keys\n",
    "import bs4, time, pprint\n",
    "\n",
    "#directory to find chrome webdriver\n",
    "chrome_driver = r'C:\\Users\\Yan\\Desktop\\git\\scrappers\\insta_scrapper\\chromedriver_win32\\chromedriver'\n",
    "\n",
    "#instance a chrome headless\n",
    "chrome_options = Options()\n",
    "chrome_options.add_argument('--headless')\n",
    "chrome_options.add_argument('--window-size-1920x1080')\n",
    "\n",
    "driver = webdriver.Chrome(options=chrome_options, executable_path=chrome_driver)"
   ]
  },
  {
   "cell_type": "code",
   "execution_count": 230,
   "metadata": {},
   "outputs": [],
   "source": [
    "urlProfile = 'https://www.instagram.com/nomadbitcoin/'"
   ]
  },
  {
   "cell_type": "code",
   "execution_count": 231,
   "metadata": {},
   "outputs": [],
   "source": [
    "driver.get(urlProfile)"
   ]
  },
  {
   "cell_type": "code",
   "execution_count": 232,
   "metadata": {},
   "outputs": [],
   "source": [
    "htmlPage = bs4.BeautifulSoup(driver.page_source, features='html.parser')"
   ]
  },
  {
   "cell_type": "code",
   "execution_count": 233,
   "metadata": {},
   "outputs": [],
   "source": [
    "profilesInfo = {}\n",
    "\n",
    "nameAndUser = htmlPage.find('div',{'class':'v9tJq'}).find_all('h1')\n",
    "profilesInfo.setdefault('user',nameAndUser[0].text)\n",
    "profilesInfo.setdefault('name',nameAndUser[1].text)\n",
    "\n",
    "profilesInfoFound = htmlPage.find('header').find_all('span')"
   ]
  },
  {
   "cell_type": "code",
   "execution_count": 239,
   "metadata": {},
   "outputs": [],
   "source": [
    "profilesInfo.setdefault('posts',profilesInfoFound[1].text)\n",
    "profilesInfo.setdefault('followers',profilesInfoFound[2].text)\n",
    "profilesInfo.setdefault('following',profilesInfoFound[3].text)\n",
    "profilesInfo.setdefault('bio',{})\n",
    "profilesInfo['bio'].setdefault('text',profilesInfoFound[4].text)\n",
    "profilesInfo['bio'].setdefault('strings',profilesInfoFound[4].text.split())\n",
    "for s in profilesInfoFound[4].find_all('a'):\n",
    "    if s.get('href').startswith('/explore/tags'):\n",
    "        profilesInfo['bio'].setdefault('tags',[])\n",
    "        profilesInfo['bio']['tags'].append(s.get('href'))\n",
    "    else:\n",
    "        profilesInfo['bio'].setdefault('profiles',[])\n",
    "        profilesInfo['bio']['profiles'].append(s.get('href'))"
   ]
  },
  {
   "cell_type": "code",
   "execution_count": 240,
   "metadata": {},
   "outputs": [],
   "source": [
    "while len(linksFound) < int(profilesInfo['posts']):\n",
    "    links_in_Profile = htmlPage.find_all('a')\n",
    "    print(len(links_in_Profile))\n",
    "    for l in range(len(links_in_Profile)):\n",
    "        if links_in_Profile[l].get('href').startswith('/p/'):\n",
    "            linksFound.append('https://www.instagram.com' + str(links_in_Profile[l].get('href')))\n",
    "    driver.execute_script(\"window.scrollTo(0, document.body.scrollHeight);var lenOfPage=document.body.scrollHeight;return lenOfPage;\")\n",
    "    time.sleep(3)\n",
    "    driver.execute_script(\"window.scrollTo(0, document.body.scrollHeight);var lenOfPage=document.body.scrollHeight;return lenOfPage;\")\n",
    "    time.sleep(3)\n",
    "    driver.execute_script(\"window.scrollTo(0, document.body.scrollHeight);var lenOfPage=document.body.scrollHeight;return lenOfPage;\")\n",
    "    time.sleep(3)\n",
    "    driver.execute_script(\"window.scrollTo(0, document.body.scrollHeight);var lenOfPage=document.body.scrollHeight;return lenOfPage;\")\n",
    "    time.sleep(3)\n",
    "    htmlPage = bs4.BeautifulSoup(driver.page_source, features='html.parser')\n",
    "    linksFound = list(set(linksFound))"
   ]
  },
  {
   "cell_type": "code",
   "execution_count": 238,
   "metadata": {},
   "outputs": [
    {
     "name": "stdout",
     "output_type": "stream",
     "text": [
      "336\n"
     ]
    }
   ],
   "source": [
    "print(len(linksFound))"
   ]
  },
  {
   "cell_type": "code",
   "execution_count": null,
   "metadata": {},
   "outputs": [],
   "source": []
  }
 ],
 "metadata": {
  "kernelspec": {
   "display_name": "Python 3",
   "language": "python",
   "name": "python3"
  },
  "language_info": {
   "codemirror_mode": {
    "name": "ipython",
    "version": 3
   },
   "file_extension": ".py",
   "mimetype": "text/x-python",
   "name": "python",
   "nbconvert_exporter": "python",
   "pygments_lexer": "ipython3",
   "version": "3.7.3"
  }
 },
 "nbformat": 4,
 "nbformat_minor": 2
}
