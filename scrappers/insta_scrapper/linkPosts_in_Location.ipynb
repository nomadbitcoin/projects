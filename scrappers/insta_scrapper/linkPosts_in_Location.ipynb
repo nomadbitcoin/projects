{
 "cells": [
  {
   "cell_type": "code",
   "execution_count": 119,
   "metadata": {},
   "outputs": [],
   "source": [
    "from selenium import webdriver\n",
    "from selenium.webdriver.chrome.options import Options\n",
    "from selenium.webdriver.common.keys import Keys\n",
    "import bs4, time, pprint\n",
    "\n",
    "#directory to find chrome webdriver\n",
    "chrome_driver = r'C:\\Users\\Yan\\Desktop\\git\\projects\\scrappers\\insta_scrapper\\chromedriver_win32\\chromedriver'\n",
    "\n",
    "#instance a chrome headless\n",
    "chrome_options = Options()\n",
    "chrome_options.add_argument('--headless')\n",
    "chrome_options.add_argument('--window-size-1920x1080')\n",
    "\n",
    "driver = webdriver.Chrome(options=chrome_options, executable_path=chrome_driver)"
   ]
  },
  {
   "cell_type": "code",
   "execution_count": 120,
   "metadata": {},
   "outputs": [],
   "source": [
    "url = 'https://www.instagram.com/explore/locations/906094853/zil-cabeleireiro-unissex/'"
   ]
  },
  {
   "cell_type": "code",
   "execution_count": 121,
   "metadata": {},
   "outputs": [],
   "source": [
    "driver.get(url)\n",
    "htmlPage = bs4.BeautifulSoup(driver.page_source, features='html.parser')\n",
    "htmlElem = driver.find_element_by_tag_name('html')"
   ]
  },
  {
   "cell_type": "code",
   "execution_count": 122,
   "metadata": {},
   "outputs": [
    {
     "name": "stdout",
     "output_type": "stream",
     "text": [
      "Zil Cabeleireiro Unissex\n"
     ]
    }
   ],
   "source": [
    "title = htmlPage.find('meta',{'property':'og:description'}).get('content')\n",
    "nameLocation = title[title.find('‘')+1:-1]\n",
    "'''\n",
    "firstBar = url[44:].find('/')\n",
    "nameLocation = url[44+1+first:-1]\n",
    "print(nameLocation)\n",
    "'''\n",
    "print(nameLocation)"
   ]
  },
  {
   "cell_type": "code",
   "execution_count": 123,
   "metadata": {},
   "outputs": [],
   "source": [
    "places = {}"
   ]
  },
  {
   "cell_type": "code",
   "execution_count": 124,
   "metadata": {},
   "outputs": [
    {
     "data": {
      "text/plain": [
       "'https://www.instagram.com/explore/locations/906094853/zil-cabeleireiro-unissex/'"
      ]
     },
     "execution_count": 124,
     "metadata": {},
     "output_type": "execute_result"
    }
   ],
   "source": [
    "places.setdefault(str(nameLocation),{})\n",
    "places[str(nameLocation)].setdefault('latitude',htmlPage.find('meta',{'property':'place:location:latitude'}).get('content'))\n",
    "places[str(nameLocation)].setdefault('longitude',htmlPage.find('meta',{'property':'place:location:longitude'}).get('content'))\n",
    "places[str(nameLocation)].setdefault('url-Location', url)"
   ]
  },
  {
   "cell_type": "code",
   "execution_count": 125,
   "metadata": {},
   "outputs": [],
   "source": [
    "linksFound = []\n",
    "linkProfiles = []\n",
    "debug = {}"
   ]
  },
  {
   "cell_type": "code",
   "execution_count": 126,
   "metadata": {},
   "outputs": [],
   "source": [
    "numPublications = int(''.join(filter(str.isdigit, htmlPage.find('meta',{'name':'description'}).get('content')[:htmlPage.find('meta',{'name':'description'}).get('content').find('-')])))"
   ]
  },
  {
   "cell_type": "code",
   "execution_count": 129,
   "metadata": {},
   "outputs": [
    {
     "name": "stdout",
     "output_type": "stream",
     "text": [
      "72 links encontrados\n",
      "77 links encontrados\n",
      "1 tentativa\n",
      "77 links encontrados\n",
      "2 tentativa\n",
      "77 links encontrados\n",
      "3 tentativa\n",
      "77 links encontrados\n",
      "\n",
      "FINISH\n",
      "foram encontrados 77 links das 100 publicacoes na localizacao Zil Cabeleireiro Unissex e programa encerrado.\n",
      "\n"
     ]
    }
   ],
   "source": [
    "temp = 0\n",
    "stop = 0\n",
    "while len(linkProfiles) < numPublications and stop != 3:\n",
    "    driver.execute_script(\"window.scrollTo(0, document.body.scrollHeight);var lenOfPage=document.body.scrollHeight;return lenOfPage;\")\n",
    "    time.sleep(2)\n",
    "    htmlPage = bs4.BeautifulSoup(driver.page_source, features='html.parser')\n",
    "    for links in htmlPage.find_all('a'):\n",
    "        if links.get('href').startswith('/p/'):\n",
    "            linksFound.append('https://www.instagram.com' + str(links.get('href')))\n",
    "    linkProfiles = list(set(linksFound))\n",
    "    if len(linkProfiles) == temp:\n",
    "        htmlElem.send_keys(Keys.PAGE_UP)\n",
    "        time.sleep(2)\n",
    "        htmlElem.send_keys(Keys.PAGE_UP)\n",
    "        time.sleep(2)\n",
    "        htmlElem.send_keys(Keys.HOME)\n",
    "        time.sleep(2)\n",
    "        htmlElem.send_keys(Keys.END)\n",
    "        htmlPage = bs4.BeautifulSoup(driver.page_source, features='html.parser')\n",
    "        if htmlPage.find('div',{'class':'Z2m7o'}).find('button') != None:\n",
    "            debug.setdefault(str(len(linkProfiles)), [])\n",
    "            debug[str(len(linkProfiles))].append(htmlPage.find('div',{'class':'Z2m7o'}).find('button').text)\n",
    "            stop = 0\n",
    "        elif str(len(linkProfiles)) not in debug.keys():\n",
    "            stop += 1\n",
    "            print('{} tentativa'.format(str(stop)))\n",
    "        for links in htmlPage.find_all('a'):\n",
    "            if links.get('href').startswith('/p/'):\n",
    "                linksFound.append('https://www.instagram.com' + str(links.get('href')))\n",
    "        linkProfiles = list(set(linksFound))\n",
    "    temp = len(linkProfiles)\n",
    "    print('{} links encontrados'.format(len(linkProfiles)))\n",
    "places[str(nameLocation)].setdefault('LinksPublications', linkProfiles)\n",
    "print('\\nFINISH\\nforam encontrados {} links das {} publicacoes em {} e programa encerrado.\\n'.format(len(linkProfiles), numPublications, nameLocation))"
   ]
  },
  {
   "cell_type": "code",
   "execution_count": 131,
   "metadata": {},
   "outputs": [
    {
     "data": {
      "text/plain": [
       "\"\\nfile = open('linksPublicacoes.txt', 'a')\\nfor l in linkProfiles:\\n    file.writelines(str(l) + '\\n')\\nfile.close\\n\""
      ]
     },
     "execution_count": 131,
     "metadata": {},
     "output_type": "execute_result"
    }
   ],
   "source": [
    "'''\n",
    "file = open('linksPublicacoes.txt', 'a')\n",
    "for l in linkProfiles:\n",
    "    file.writelines(str(l) + '\\n')\n",
    "file.close\n",
    "'''"
   ]
  },
  {
   "cell_type": "code",
   "execution_count": null,
   "metadata": {},
   "outputs": [],
   "source": [
    "pprint."
   ]
  }
 ],
 "metadata": {
  "kernelspec": {
   "display_name": "Python 3",
   "language": "python",
   "name": "python3"
  },
  "language_info": {
   "codemirror_mode": {
    "name": "ipython",
    "version": 3
   },
   "file_extension": ".py",
   "mimetype": "text/x-python",
   "name": "python",
   "nbconvert_exporter": "python",
   "pygments_lexer": "ipython3",
   "version": "3.7.3"
  }
 },
 "nbformat": 4,
 "nbformat_minor": 2
}
