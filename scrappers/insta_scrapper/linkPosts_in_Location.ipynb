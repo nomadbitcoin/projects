{
 "cells": [
  {
   "cell_type": "code",
   "execution_count": 67,
   "metadata": {},
   "outputs": [],
   "source": [
    "from selenium import webdriver\n",
    "from selenium.webdriver.chrome.options import Options\n",
    "from selenium.webdriver.common.keys import Keys\n",
    "import bs4, time, pprint\n",
    "\n",
    "#directory to find chrome webdriver\n",
    "chrome_driver = r'C:\\Users\\Yan\\Desktop\\git\\scrappers\\insta_scrapper\\chromedriver_win32\\chromedriver'\n",
    "\n",
    "#instance a chrome headless\n",
    "chrome_options = Options()\n",
    "chrome_options.add_argument('--headless')\n",
    "chrome_options.add_argument('--window-size-1920x1080')\n",
    "\n",
    "driver = webdriver.Chrome(options=chrome_options, executable_path=chrome_driver)"
   ]
  },
  {
   "cell_type": "code",
   "execution_count": 21,
   "metadata": {},
   "outputs": [],
   "source": [
    "url = 'https://www.instagram.com/explore/locations/234636166/uniao-da-vitoria/'"
   ]
  },
  {
   "cell_type": "code",
   "execution_count": 22,
   "metadata": {},
   "outputs": [],
   "source": [
    "driver.get(url)\n",
    "htmlPage = bs4.BeautifulSoup(driver.page_source, features='html.parser')"
   ]
  },
  {
   "cell_type": "code",
   "execution_count": 23,
   "metadata": {},
   "outputs": [],
   "source": [
    "places = {}"
   ]
  },
  {
   "cell_type": "code",
   "execution_count": 24,
   "metadata": {},
   "outputs": [
    {
     "data": {
      "text/plain": [
       "{}"
      ]
     },
     "execution_count": 24,
     "metadata": {},
     "output_type": "execute_result"
    }
   ],
   "source": [
    "places.setdefault('uniao-da-vitoria',{})"
   ]
  },
  {
   "cell_type": "code",
   "execution_count": 25,
   "metadata": {},
   "outputs": [
    {
     "data": {
      "text/plain": [
       "'-51.08665'"
      ]
     },
     "execution_count": 25,
     "metadata": {},
     "output_type": "execute_result"
    }
   ],
   "source": [
    "places['uniao-da-vitoria'].setdefault('latitude',htmlPage.find('meta',{'property':'place:location:latitude'}).get('content'))\n",
    "places['uniao-da-vitoria'].setdefault('longitude',htmlPage.find('meta',{'property':'place:location:longitude'}).get('content'))"
   ]
  },
  {
   "cell_type": "code",
   "execution_count": 44,
   "metadata": {},
   "outputs": [
    {
     "data": {
      "text/plain": [
       "'https://www.instagram.com/explore/locations/234636166/uniao-da-vitoria/'"
      ]
     },
     "execution_count": 44,
     "metadata": {},
     "output_type": "execute_result"
    }
   ],
   "source": [
    "places['uniao-da-vitoria'].setdefault('url-Location', url)"
   ]
  },
  {
   "cell_type": "code",
   "execution_count": 131,
   "metadata": {},
   "outputs": [],
   "source": [
    "linksFound = []"
   ]
  },
  {
   "cell_type": "code",
   "execution_count": 132,
   "metadata": {},
   "outputs": [],
   "source": [
    "links1 = htmlPage.find_all('a')\n",
    "for l in range(len(links1)):\n",
    "    if links1[l].get('href').startswith('/p/'):\n",
    "        linksFound.append('https://www.instagram.com' + str(links1[l].get('href')))"
   ]
  },
  {
   "cell_type": "code",
   "execution_count": 133,
   "metadata": {},
   "outputs": [],
   "source": [
    "driver.execute_script(\"window.scrollTo(0, document.body.scrollHeight);var lenOfPage=document.body.scrollHeight;return lenOfPage;\")\n",
    "time.sleep(3)\n",
    "driver.execute_script(\"window.scrollTo(0, document.body.scrollHeight);var lenOfPage=document.body.scrollHeight;return lenOfPage;\")\n",
    "time.sleep(3)\n",
    "driver.execute_script(\"window.scrollTo(0, document.body.scrollHeight);var lenOfPage=document.body.scrollHeight;return lenOfPage;\")\n",
    "time.sleep(3)\n",
    "driver.execute_script(\"window.scrollTo(0, document.body.scrollHeight);var lenOfPage=document.body.scrollHeight;return lenOfPage;\")\n",
    "time.sleep(3)\n",
    "htmlPage = bs4.BeautifulSoup(driver.page_source, features='html.parser')\n",
    "links1 = htmlPage.find_all('a')\n",
    "for l in range(len(links1)):\n",
    "    if links1[l].get('href').startswith('/p/'):\n",
    "        linksFound.append('https://www.instagram.com' + str(links1[l].get('href')))"
   ]
  },
  {
   "cell_type": "code",
   "execution_count": 134,
   "metadata": {},
   "outputs": [],
   "source": [
    "driver.execute_script(\"window.scrollTo(0, document.body.scrollHeight);var lenOfPage=document.body.scrollHeight;return lenOfPage;\")\n",
    "time.sleep(3)\n",
    "driver.execute_script(\"window.scrollTo(0, document.body.scrollHeight);var lenOfPage=document.body.scrollHeight;return lenOfPage;\")\n",
    "time.sleep(3)\n",
    "driver.execute_script(\"window.scrollTo(0, document.body.scrollHeight);var lenOfPage=document.body.scrollHeight;return lenOfPage;\")\n",
    "time.sleep(3)\n",
    "driver.execute_script(\"window.scrollTo(0, document.body.scrollHeight);var lenOfPage=document.body.scrollHeight;return lenOfPage;\")\n",
    "time.sleep(3)\n",
    "htmlPage = bs4.BeautifulSoup(driver.page_source, features='html.parser')\n",
    "links1 = htmlPage.find_all('a')\n",
    "for l in range(len(links1)):\n",
    "    if links1[l].get('href').startswith('/p/'):\n",
    "        linksFound.append('https://www.instagram.com' + str(links1[l].get('href')))"
   ]
  },
  {
   "cell_type": "code",
   "execution_count": 135,
   "metadata": {},
   "outputs": [],
   "source": [
    "driver.execute_script(\"window.scrollTo(0, document.body.scrollHeight);var lenOfPage=document.body.scrollHeight;return lenOfPage;\")\n",
    "time.sleep(3)\n",
    "driver.execute_script(\"window.scrollTo(0, document.body.scrollHeight);var lenOfPage=document.body.scrollHeight;return lenOfPage;\")\n",
    "time.sleep(3)\n",
    "driver.execute_script(\"window.scrollTo(0, document.body.scrollHeight);var lenOfPage=document.body.scrollHeight;return lenOfPage;\")\n",
    "time.sleep(3)\n",
    "driver.execute_script(\"window.scrollTo(0, document.body.scrollHeight);var lenOfPage=document.body.scrollHeight;return lenOfPage;\")\n",
    "time.sleep(3)\n",
    "htmlPage = bs4.BeautifulSoup(driver.page_source, features='html.parser')\n",
    "links1 = htmlPage.find_all('a')\n",
    "for l in range(len(links1)):\n",
    "    if links1[l].get('href').startswith('/p/'):\n",
    "        linksFound.append('https://www.instagram.com' + str(links1[l].get('href')))"
   ]
  },
  {
   "cell_type": "code",
   "execution_count": 136,
   "metadata": {},
   "outputs": [
    {
     "name": "stdout",
     "output_type": "stream",
     "text": [
      "204\n"
     ]
    }
   ],
   "source": [
    "print(len(linksFound))"
   ]
  },
  {
   "cell_type": "code",
   "execution_count": 142,
   "metadata": {},
   "outputs": [],
   "source": [
    "linkProfiles = list(set(linksFound))"
   ]
  },
  {
   "cell_type": "code",
   "execution_count": 151,
   "metadata": {},
   "outputs": [
    {
     "name": "stdout",
     "output_type": "stream",
     "text": [
      "177\n"
     ]
    }
   ],
   "source": [
    "print(len(linkProfiles))"
   ]
  },
  {
   "cell_type": "code",
   "execution_count": 176,
   "metadata": {},
   "outputs": [
    {
     "name": "stdout",
     "output_type": "stream",
     "text": [
      "['https://www.instagram.com/p/Byboz0KADlk/',\n",
      " 'https://www.instagram.com/p/Byarhsggc-k/',\n",
      " 'https://www.instagram.com/p/BydV6Ngg10n/',\n",
      " 'https://www.instagram.com/p/ByZBhDeAl5s/',\n",
      " 'https://www.instagram.com/p/ByYyfVSngr1/',\n",
      " 'https://www.instagram.com/p/BybmJcFADHC/',\n",
      " 'https://www.instagram.com/p/ByYYO79AEfh/',\n",
      " 'https://www.instagram.com/p/BydTucDArFA/',\n",
      " 'https://www.instagram.com/p/BybRhmngBZ3/',\n",
      " 'https://www.instagram.com/p/ByYqbsRAf8G/',\n",
      " 'https://www.instagram.com/p/ByYdfDGA9nm/',\n",
      " 'https://www.instagram.com/p/ByZ9lk-gUru/',\n",
      " 'https://www.instagram.com/p/Bydq9twJSpq/',\n",
      " 'https://www.instagram.com/p/BybP0TPAmza/',\n",
      " 'https://www.instagram.com/p/ByYhP3xldvI/',\n",
      " 'https://www.instagram.com/p/ByY68-FBIS1/',\n",
      " 'https://www.instagram.com/p/BybdGo2AAhK/',\n",
      " 'https://www.instagram.com/p/ByaTG_lH-vp/',\n",
      " 'https://www.instagram.com/p/BylcPbnACGm/',\n",
      " 'https://www.instagram.com/p/BybdddgguNv/',\n",
      " 'https://www.instagram.com/p/BybdRGzAVZ5/',\n",
      " 'https://www.instagram.com/p/ByYoUJagD5Q/',\n",
      " 'https://www.instagram.com/p/ByYS5bMgCis/',\n",
      " 'https://www.instagram.com/p/ByagRDCAM-W/',\n",
      " 'https://www.instagram.com/p/ByaBa2UATja/',\n",
      " 'https://www.instagram.com/p/ByYjz3AAm5v/',\n",
      " 'https://www.instagram.com/p/ByYaREHBtBE/',\n",
      " 'https://www.instagram.com/p/Byc2mfjBk__/',\n",
      " 'https://www.instagram.com/p/Bycmkgag21r/',\n",
      " 'https://www.instagram.com/p/Byaz63jAcCh/',\n",
      " 'https://www.instagram.com/p/Bydfq7zgequ/',\n",
      " 'https://www.instagram.com/p/BybWKd0g5rx/',\n",
      " 'https://www.instagram.com/p/ByZiSJ3gcd3/',\n",
      " 'https://www.instagram.com/p/ByYvKrSgRE4/',\n",
      " 'https://www.instagram.com/p/Bya6Q9AAZsR/',\n",
      " 'https://www.instagram.com/p/ByaC1AuAU-k/',\n",
      " 'https://www.instagram.com/p/ByYZ8V0g4sZ/',\n",
      " 'https://www.instagram.com/p/ByYwF9ngCfl/',\n",
      " 'https://www.instagram.com/p/ByaR1BggoOW/',\n",
      " 'https://www.instagram.com/p/BybIKI2A1HK/',\n",
      " 'https://www.instagram.com/p/ByaYF59AV-L/',\n",
      " 'https://www.instagram.com/p/ByYPbSmgRYc/',\n",
      " 'https://www.instagram.com/p/Bya5pmqgKIy/',\n",
      " 'https://www.instagram.com/p/BybiAZggfMD/',\n",
      " 'https://www.instagram.com/p/BydlXloBlkk/',\n",
      " 'https://www.instagram.com/p/BydCMOCAnM9/',\n",
      " 'https://www.instagram.com/p/BynRemXA2fe/',\n",
      " 'https://www.instagram.com/p/ByYgGSehI1Q/',\n",
      " 'https://www.instagram.com/p/ByaClypACh8/',\n",
      " 'https://www.instagram.com/p/BydsrgwlIHd/',\n",
      " 'https://www.instagram.com/p/ByYf9dPAyUK/',\n",
      " 'https://www.instagram.com/p/ByaclXHAZmZ/',\n",
      " 'https://www.instagram.com/p/Bya6Mb0B3wZ/',\n",
      " 'https://www.instagram.com/p/ByYbo7DlpCF/',\n",
      " 'https://www.instagram.com/p/ByaIPRsgh65/',\n",
      " 'https://www.instagram.com/p/ByYaOjfjuG8/',\n",
      " 'https://www.instagram.com/p/BydjIIAAr9s/',\n",
      " 'https://www.instagram.com/p/ByaEfayAY12/',\n",
      " 'https://www.instagram.com/p/BybTiBoAJmT/',\n",
      " 'https://www.instagram.com/p/ByZ9CpAAXlq/',\n",
      " 'https://www.instagram.com/p/BybFJClF-WI/',\n",
      " 'https://www.instagram.com/p/BybSJsfDl7K/',\n",
      " 'https://www.instagram.com/p/BydLbc4Avk5/',\n",
      " 'https://www.instagram.com/p/BydPG2sAmPC/',\n",
      " 'https://www.instagram.com/p/ByaifU0hsvq/',\n",
      " 'https://www.instagram.com/p/BydSsxGgKWy/',\n",
      " 'https://www.instagram.com/p/ByYorZLgI_B/',\n",
      " 'https://www.instagram.com/p/ByYo3UjAmKq/',\n",
      " 'https://www.instagram.com/p/BydLMFdgsjS/',\n",
      " 'https://www.instagram.com/p/BydJUFhgwpd/',\n",
      " 'https://www.instagram.com/p/Bydm8Ygg-F7/',\n",
      " 'https://www.instagram.com/p/BydeFqrgbd4/',\n",
      " 'https://www.instagram.com/p/ByaEkr9AOVx/',\n",
      " 'https://www.instagram.com/p/BybVRi6A2pd/',\n",
      " 'https://www.instagram.com/p/BydnHlnnJIX/',\n",
      " 'https://www.instagram.com/p/ByabNqqAQcc/',\n",
      " 'https://www.instagram.com/p/Bya2iQ-n-Nt/',\n",
      " 'https://www.instagram.com/p/ByYlQpjgR3a/',\n",
      " 'https://www.instagram.com/p/ByahhbjgcxR/',\n",
      " 'https://www.instagram.com/p/Bybp0_0AGQf/',\n",
      " 'https://www.instagram.com/p/ByYihDlgQZS/',\n",
      " 'https://www.instagram.com/p/ByZlbcWA5dG/',\n",
      " 'https://www.instagram.com/p/ByjCYGlAdwP/',\n",
      " 'https://www.instagram.com/p/BydGdjgAvvT/',\n",
      " 'https://www.instagram.com/p/ByY9DspAefD/',\n",
      " 'https://www.instagram.com/p/ByY7mIOgGTa/',\n",
      " 'https://www.instagram.com/p/Bynhlq0BPIx/',\n",
      " 'https://www.instagram.com/p/Bydfe5bgLq1/',\n",
      " 'https://www.instagram.com/p/Bya9BVxg1kF/',\n",
      " 'https://www.instagram.com/p/Byc_ckeAaqn/',\n",
      " 'https://www.instagram.com/p/ByaqYrygmZ_/',\n",
      " 'https://www.instagram.com/p/Byc9VvAAWQk/',\n",
      " 'https://www.instagram.com/p/Byaot9fgP3u/',\n",
      " 'https://www.instagram.com/p/ByaBtbnAYjl/',\n",
      " 'https://www.instagram.com/p/ByYZdCFgs7W/',\n",
      " 'https://www.instagram.com/p/BydphaDgQFx/',\n",
      " 'https://www.instagram.com/p/ByboKHLnKWX/',\n",
      " 'https://www.instagram.com/p/ByYvDe_AubX/',\n",
      " 'https://www.instagram.com/p/ByYRpaJBuRF/',\n",
      " 'https://www.instagram.com/p/Byc2QmVgLsI/',\n",
      " 'https://www.instagram.com/p/BykqbUoA9JU/',\n",
      " 'https://www.instagram.com/p/Byc4AQ5ANtv/',\n",
      " 'https://www.instagram.com/p/BydWcDXA9pj/',\n",
      " 'https://www.instagram.com/p/ByYsGpIgq6R/',\n",
      " 'https://www.instagram.com/p/ByYibJ7h1Ql/',\n",
      " 'https://www.instagram.com/p/BydNnFhn3wF/',\n",
      " 'https://www.instagram.com/p/BybZVYBAGCE/',\n",
      " 'https://www.instagram.com/p/ByaKalvAOkM/',\n",
      " 'https://www.instagram.com/p/Bydpwy1Atl1/',\n",
      " 'https://www.instagram.com/p/BydBktLgZY-/',\n",
      " 'https://www.instagram.com/p/BydfZpMAm24/',\n",
      " 'https://www.instagram.com/p/ByaaUyrgA8J/',\n",
      " 'https://www.instagram.com/p/ByapVUKpnWP/',\n",
      " 'https://www.instagram.com/p/ByafdghgIDR/',\n",
      " 'https://www.instagram.com/p/ByZ-Z3igLfR/',\n",
      " 'https://www.instagram.com/p/BydY9xygSom/',\n",
      " 'https://www.instagram.com/p/ByYkUz4HLUh/',\n",
      " 'https://www.instagram.com/p/BycpNOZAmbi/',\n",
      " 'https://www.instagram.com/p/ByaQ9QDgWc_/',\n",
      " 'https://www.instagram.com/p/ByaVeuxgwle/',\n",
      " 'https://www.instagram.com/p/ByYRy_elvXp/',\n",
      " 'https://www.instagram.com/p/Bya9xBagI0F/',\n",
      " 'https://www.instagram.com/p/Byfoe10goSg/',\n",
      " 'https://www.instagram.com/p/BydUipBAxil/',\n",
      " 'https://www.instagram.com/p/BydjL-LA4Er/',\n",
      " 'https://www.instagram.com/p/BybuNW0AUWl/',\n",
      " 'https://www.instagram.com/p/Byn08ulHXJw/',\n",
      " 'https://www.instagram.com/p/ByYr9_XgXa_/',\n",
      " 'https://www.instagram.com/p/ByYinvDpMYC/',\n",
      " 'https://www.instagram.com/p/BybMz8TgkX4/',\n",
      " 'https://www.instagram.com/p/Bydfk6kgAN6/',\n",
      " 'https://www.instagram.com/p/BybQPPLjm9d/',\n",
      " 'https://www.instagram.com/p/BybhnyCAD3b/',\n",
      " 'https://www.instagram.com/p/BydfNGsgAeK/',\n",
      " 'https://www.instagram.com/p/ByaEySjAY8I/',\n",
      " 'https://www.instagram.com/p/BydiS1HAGWV/',\n",
      " 'https://www.instagram.com/p/Bya6k8-gkaz/',\n",
      " 'https://www.instagram.com/p/ByYqdQdB3xH/',\n",
      " 'https://www.instagram.com/p/BybEAg3FRPx/',\n",
      " 'https://www.instagram.com/p/BydFKprnTth/',\n",
      " 'https://www.instagram.com/p/BycyyHBgaYS/',\n",
      " 'https://www.instagram.com/p/BydiTaVhnS0/',\n",
      " 'https://www.instagram.com/p/ByY8pihAPTq/',\n",
      " 'https://www.instagram.com/p/ByaPG3tAa73/',\n",
      " 'https://www.instagram.com/p/Bycll1mgzT9/',\n",
      " 'https://www.instagram.com/p/BybdOX0g5J9/',\n",
      " 'https://www.instagram.com/p/ByaTCFDnGvD/',\n",
      " 'https://www.instagram.com/p/BybpD8RAwEz/',\n",
      " 'https://www.instagram.com/p/BybVPfZA1xe/',\n",
      " 'https://www.instagram.com/p/BydoVo_gVZB/',\n",
      " 'https://www.instagram.com/p/ByaI3lIgDua/',\n",
      " 'https://www.instagram.com/p/ByYbEhDg3JF/',\n",
      " 'https://www.instagram.com/p/ByarYX_gUC7/',\n",
      " 'https://www.instagram.com/p/ByapWRWBZYO/',\n",
      " 'https://www.instagram.com/p/ByZ5b7AAks0/',\n",
      " 'https://www.instagram.com/p/ByjF2N0jEns/',\n",
      " 'https://www.instagram.com/p/ByYeqxtlhpg/',\n",
      " 'https://www.instagram.com/p/ByZ9zmsA5NF/',\n",
      " 'https://www.instagram.com/p/ByY1aP7AfPo/',\n",
      " 'https://www.instagram.com/p/Byba8-sBIPE/',\n",
      " 'https://www.instagram.com/p/ByaIOUHgAIk/',\n",
      " 'https://www.instagram.com/p/BybdVwoAa8Z/',\n",
      " 'https://www.instagram.com/p/BydNawrAoWV/',\n",
      " 'https://www.instagram.com/p/BybvfZzFD3u/',\n",
      " 'https://www.instagram.com/p/BybM2iHgn_Q/',\n",
      " 'https://www.instagram.com/p/ByYQZp6gJ2V/',\n",
      " 'https://www.instagram.com/p/ByapVxlh-1G/',\n",
      " 'https://www.instagram.com/p/ByaXeBXg1zW/',\n",
      " 'https://www.instagram.com/p/BybLAR7gK7U/',\n",
      " 'https://www.instagram.com/p/ByaGOXpgdKA/',\n",
      " 'https://www.instagram.com/p/BylVQTKgZZ2/',\n",
      " 'https://www.instagram.com/p/BybdThhAxyP/',\n",
      " 'https://www.instagram.com/p/ByYq9sSFH1h/',\n",
      " 'https://www.instagram.com/p/ByaEfnOhp9w/',\n",
      " 'https://www.instagram.com/p/ByYowoaAytt/',\n",
      " 'https://www.instagram.com/p/Bydfy8ZA_aY/',\n",
      " 'https://www.instagram.com/p/BydO3v5AMAv/']\n"
     ]
    }
   ],
   "source": [
    "pprint.pprint(linkProfiles)"
   ]
  },
  {
   "cell_type": "code",
   "execution_count": null,
   "metadata": {},
   "outputs": [],
   "source": []
  }
 ],
 "metadata": {
  "kernelspec": {
   "display_name": "Python 3",
   "language": "python",
   "name": "python3"
  },
  "language_info": {
   "codemirror_mode": {
    "name": "ipython",
    "version": 3
   },
   "file_extension": ".py",
   "mimetype": "text/x-python",
   "name": "python",
   "nbconvert_exporter": "python",
   "pygments_lexer": "ipython3",
   "version": "3.7.3"
  }
 },
 "nbformat": 4,
 "nbformat_minor": 2
}
