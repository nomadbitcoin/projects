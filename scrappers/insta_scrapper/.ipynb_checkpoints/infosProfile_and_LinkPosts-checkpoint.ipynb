{
 "cells": [
  {
   "cell_type": "code",
   "execution_count": 11,
   "metadata": {},
   "outputs": [],
   "source": [
    "from selenium import webdriver\n",
    "from selenium.webdriver.chrome.options import Options\n",
    "from selenium.webdriver.common.keys import Keys\n",
    "import bs4, time, pprint\n",
    "\n",
    "#directory to find chrome webdriver\n",
    "chrome_driver = r'C:\\Users\\Yan\\Desktop\\git\\projects\\scrappers\\insta_scrapper\\chromedriver_win32\\chromedriver'\n",
    "\n",
    "#instance a chrome headless\n",
    "chrome_options = Options()\n",
    "chrome_options.add_argument('--headless')\n",
    "chrome_options.add_argument('--window-size-1920x1080')\n",
    "\n",
    "driver = webdriver.Chrome(options=chrome_options, executable_path=chrome_driver)\n"
   ]
  },
  {
   "cell_type": "code",
   "execution_count": 18,
   "metadata": {},
   "outputs": [],
   "source": [
    "#urlProfile = input('Insira o link do perfil \\n')\n",
    "urlProfile = 'https://www.instagram.com/_stuckyy/'\n",
    "\n",
    "driver.get(urlProfile)\n",
    "\n",
    "htmlPage = bs4.BeautifulSoup(driver.page_source, features='html.parser')\n",
    "\n",
    "profilesInfo = {}\n",
    "\n",
    "nameAndUser = htmlPage.find('div',{'class':'v9tJq'}).find_all('h1')\n",
    "profilesInfo.setdefault('user',nameAndUser[0].text)\n",
    "profilesInfo.setdefault('name',nameAndUser[1].text)\n",
    "\n",
    "profilesInfoFound = htmlPage.find('header').find_all('span')\n"
   ]
  },
  {
   "cell_type": "code",
   "execution_count": 19,
   "metadata": {},
   "outputs": [
    {
     "ename": "AttributeError",
     "evalue": "'NoneType' object has no attribute 'get'",
     "output_type": "error",
     "traceback": [
      "\u001b[1;31m---------------------------------------------------------------------------\u001b[0m",
      "\u001b[1;31mAttributeError\u001b[0m                            Traceback (most recent call last)",
      "\u001b[1;32m<ipython-input-19-d1d8b3777325>\u001b[0m in \u001b[0;36m<module>\u001b[1;34m\u001b[0m\n\u001b[0;32m      5\u001b[0m \u001b[0mprofilesInfo\u001b[0m\u001b[1;33m.\u001b[0m\u001b[0msetdefault\u001b[0m\u001b[1;33m(\u001b[0m\u001b[1;34m'bio'\u001b[0m\u001b[1;33m,\u001b[0m\u001b[1;33m{\u001b[0m\u001b[1;33m}\u001b[0m\u001b[1;33m)\u001b[0m\u001b[1;33m\u001b[0m\u001b[1;33m\u001b[0m\u001b[0m\n\u001b[0;32m      6\u001b[0m \u001b[0mprofilesInfo\u001b[0m\u001b[1;33m[\u001b[0m\u001b[1;34m'bio'\u001b[0m\u001b[1;33m]\u001b[0m\u001b[1;33m.\u001b[0m\u001b[0msetdefault\u001b[0m\u001b[1;33m(\u001b[0m\u001b[1;34m'text'\u001b[0m\u001b[1;33m,\u001b[0m\u001b[0mprofilesInfoFound\u001b[0m\u001b[1;33m[\u001b[0m\u001b[1;36m4\u001b[0m\u001b[1;33m]\u001b[0m\u001b[1;33m.\u001b[0m\u001b[0mtext\u001b[0m\u001b[1;33m)\u001b[0m\u001b[1;33m\u001b[0m\u001b[1;33m\u001b[0m\u001b[0m\n\u001b[1;32m----> 7\u001b[1;33m \u001b[1;32mif\u001b[0m \u001b[0mhtmlPage\u001b[0m\u001b[1;33m.\u001b[0m\u001b[0mfind\u001b[0m\u001b[1;33m(\u001b[0m\u001b[1;34m'div'\u001b[0m\u001b[1;33m,\u001b[0m\u001b[1;33m{\u001b[0m\u001b[1;34m'class'\u001b[0m\u001b[1;33m:\u001b[0m\u001b[1;34m'-vDIg'\u001b[0m\u001b[1;33m}\u001b[0m\u001b[1;33m)\u001b[0m\u001b[1;33m.\u001b[0m\u001b[0mfind\u001b[0m\u001b[1;33m(\u001b[0m\u001b[1;34m'a'\u001b[0m\u001b[1;33m)\u001b[0m\u001b[1;33m.\u001b[0m\u001b[0mget\u001b[0m\u001b[1;33m(\u001b[0m\u001b[1;34m'href'\u001b[0m\u001b[1;33m)\u001b[0m\u001b[1;33m.\u001b[0m\u001b[0mstartswith\u001b[0m\u001b[1;33m(\u001b[0m\u001b[1;34m'https://l.instagram.com'\u001b[0m\u001b[1;33m)\u001b[0m \u001b[1;32mand\u001b[0m \u001b[0mhtmlPage\u001b[0m\u001b[1;33m.\u001b[0m\u001b[0mfind\u001b[0m\u001b[1;33m(\u001b[0m\u001b[1;34m'div'\u001b[0m\u001b[1;33m,\u001b[0m\u001b[1;33m{\u001b[0m\u001b[1;34m'class'\u001b[0m\u001b[1;33m:\u001b[0m\u001b[1;34m'-vDIg'\u001b[0m\u001b[1;33m}\u001b[0m\u001b[1;33m)\u001b[0m\u001b[1;33m.\u001b[0m\u001b[0mfind\u001b[0m\u001b[1;33m(\u001b[0m\u001b[1;34m'a'\u001b[0m\u001b[1;33m)\u001b[0m \u001b[1;33m!=\u001b[0m \u001b[1;32mNone\u001b[0m\u001b[1;33m:\u001b[0m\u001b[1;33m\u001b[0m\u001b[1;33m\u001b[0m\u001b[0m\n\u001b[0m\u001b[0;32m      8\u001b[0m     \u001b[0mprofilesInfo\u001b[0m\u001b[1;33m.\u001b[0m\u001b[0msetdefault\u001b[0m\u001b[1;33m(\u001b[0m\u001b[1;34m'site'\u001b[0m\u001b[1;33m,\u001b[0m\u001b[0mhtmlPage\u001b[0m\u001b[1;33m.\u001b[0m\u001b[0mfind\u001b[0m\u001b[1;33m(\u001b[0m\u001b[1;34m'div'\u001b[0m\u001b[1;33m,\u001b[0m\u001b[1;33m{\u001b[0m\u001b[1;34m'class'\u001b[0m\u001b[1;33m:\u001b[0m\u001b[1;34m'-vDIg'\u001b[0m\u001b[1;33m}\u001b[0m\u001b[1;33m)\u001b[0m\u001b[1;33m.\u001b[0m\u001b[0mfind\u001b[0m\u001b[1;33m(\u001b[0m\u001b[1;34m'a'\u001b[0m\u001b[1;33m)\u001b[0m\u001b[1;33m.\u001b[0m\u001b[0mget\u001b[0m\u001b[1;33m(\u001b[0m\u001b[1;34m'href'\u001b[0m\u001b[1;33m)\u001b[0m\u001b[1;33m)\u001b[0m\u001b[1;33m\u001b[0m\u001b[1;33m\u001b[0m\u001b[0m\n\u001b[0;32m      9\u001b[0m \u001b[1;32mfor\u001b[0m \u001b[0ms\u001b[0m \u001b[1;32min\u001b[0m \u001b[0mprofilesInfoFound\u001b[0m\u001b[1;33m[\u001b[0m\u001b[1;36m4\u001b[0m\u001b[1;33m]\u001b[0m\u001b[1;33m.\u001b[0m\u001b[0mfind_all\u001b[0m\u001b[1;33m(\u001b[0m\u001b[1;34m'a'\u001b[0m\u001b[1;33m)\u001b[0m\u001b[1;33m:\u001b[0m\u001b[1;33m\u001b[0m\u001b[1;33m\u001b[0m\u001b[0m\n",
      "\u001b[1;31mAttributeError\u001b[0m: 'NoneType' object has no attribute 'get'"
     ]
    }
   ],
   "source": [
    "profilesInfo.setdefault('posts',{})\n",
    "profilesInfo['posts'].setdefault(str(profilesInfoFound[1].text),[])\n",
    "profilesInfo.setdefault('followers',profilesInfoFound[2].text)\n",
    "profilesInfo.setdefault('following',profilesInfoFound[3].text)\n",
    "profilesInfo.setdefault('bio',{})\n",
    "profilesInfo['bio'].setdefault('text',profilesInfoFound[4].text)\n",
    "#if htmlPage.find('div',{'class':'-vDIg'}).find('a').get('href').startswith('https://l.instagram.com') and htmlPage.find('div',{'class':'-vDIg'}).find('a') != None:\n",
    "#    profilesInfo.setdefault('site',htmlPage.find('div',{'class':'-vDIg'}).find('a').get('href'))\n",
    "for s in profilesInfoFound[4].find_all('a'):\n",
    "    if s.get('href').startswith('/explore/tags'):\n",
    "        profilesInfo['bio'].setdefault('tags',[])\n",
    "        profilesInfo['bio']['tags'].append(s.get('href'))\n",
    "    else:\n",
    "        profilesInfo['bio'].setdefault('profiles',[])\n",
    "        profilesInfo['bio']['profiles'].append(s.get('href'))\n"
   ]
  },
  {
   "cell_type": "code",
   "execution_count": null,
   "metadata": {},
   "outputs": [],
   "source": [
    "while len(profilesInfo['posts'][str(profilesInfoFound[1].text)]) < int(profilesInfoFound[1].text):\n",
    "    links_in_Profile = htmlPage.find_all('a')\n",
    "    for l in range(len(links_in_Profile)):\n",
    "        if links_in_Profile[l].get('href').startswith('/p/'):\n",
    "            profilesInfo['posts'][str(profilesInfoFound[1].text)].append('https://www.instagram.com' + str(links_in_Profile[l].get('href')))\n",
    "    driver.execute_script(\"window.scrollTo(0, document.body.scrollHeight);var lenOfPage=document.body.scrollHeight;return lenOfPage;\")\n",
    "    time.sleep(3)\n",
    "    htmlPage = bs4.BeautifulSoup(driver.page_source, features='html.parser')\n",
    "    profilesInfo['posts'][str(profilesInfoFound[1].text)] = list(set(profilesInfo['posts'][str(profilesInfoFound[1].text)]))"
   ]
  },
  {
   "cell_type": "code",
   "execution_count": null,
   "metadata": {},
   "outputs": [],
   "source": [
    "pprint.pprint(profilesInfo)"
   ]
  },
  {
   "cell_type": "code",
   "execution_count": null,
   "metadata": {},
   "outputs": [],
   "source": []
  },
  {
   "cell_type": "code",
   "execution_count": null,
   "metadata": {},
   "outputs": [],
   "source": []
  }
 ],
 "metadata": {
  "kernelspec": {
   "display_name": "Python 3",
   "language": "python",
   "name": "python3"
  },
  "language_info": {
   "codemirror_mode": {
    "name": "ipython",
    "version": 3
   },
   "file_extension": ".py",
   "mimetype": "text/x-python",
   "name": "python",
   "nbconvert_exporter": "python",
   "pygments_lexer": "ipython3",
   "version": "3.7.3"
  }
 },
 "nbformat": 4,
 "nbformat_minor": 2
}
